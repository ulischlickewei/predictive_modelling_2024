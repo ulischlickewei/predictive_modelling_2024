{
 "cells": [
  {
   "cell_type": "markdown",
   "metadata": {
    "id": "nsZWw-2AaWWM"
   },
   "source": [
    "# A) Case study data exploration and simple linear regression"
   ]
  },
  {
   "cell_type": "markdown",
   "metadata": {
    "id": "mm4LzoR48_uT"
   },
   "source": [
    "## Part 1 (see textbook, Exercise 2.4.9)"
   ]
  },
  {
   "cell_type": "markdown",
   "metadata": {
    "id": "6FwEGgEUanXg"
   },
   "source": [
    "### Loading the relevant modules and the data\n",
    "Please run the cells below"
   ]
  },
  {
   "cell_type": "code",
   "execution_count": null,
   "metadata": {
    "id": "_zG1HLyWaN2s"
   },
   "outputs": [],
   "source": [
    "# Run this cell to import packages needed in this lab\n",
    "import numpy as np\n",
    "import pandas as pd\n",
    "import matplotlib.pyplot as plt\n",
    "\n",
    "import statsmodels.api as sm\n",
    "from statsmodels.stats.anova import anova_lm"
   ]
  },
  {
   "cell_type": "code",
   "execution_count": null,
   "metadata": {
    "id": "-iyruitFcUHO"
   },
   "outputs": [],
   "source": [
    "from ISLP import load_data\n",
    "from ISLP.models import (ModelSpec as MS,\n",
    "                  summarize)"
   ]
  },
  {
   "cell_type": "code",
   "execution_count": null,
   "metadata": {
    "id": "wsmChX1TdUSp"
   },
   "outputs": [],
   "source": [
    "Auto = load_data('Auto')"
   ]
  },
  {
   "cell_type": "code",
   "execution_count": null,
   "metadata": {
    "id": "NjsmwRBsdefR"
   },
   "outputs": [],
   "source": [
    "Auto"
   ]
  },
  {
   "cell_type": "markdown",
   "metadata": {
    "id": "4G66hsSKdqrR"
   },
   "source": [
    "### Task 1.1:\n",
    "Which of the predictors are quantitative, and which are qualitative?"
   ]
  },
  {
   "cell_type": "markdown",
   "metadata": {
    "id": "mBFhRPuVd26e"
   },
   "source": [
    "*Your answer here*"
   ]
  },
  {
   "cell_type": "markdown",
   "metadata": {
    "id": "rpuL-a91d9HS"
   },
   "source": [
    "### Task 1.2:\n",
    "What is the range of each quantitative predictor? You can answer this using the `min()` and `max()` methods in `numpy`."
   ]
  },
  {
   "cell_type": "code",
   "execution_count": null,
   "metadata": {
    "id": "Qdz5BXizdfMB"
   },
   "outputs": [],
   "source": [
    "# your code here"
   ]
  },
  {
   "cell_type": "markdown",
   "metadata": {
    "id": "nyIlV3zdeMky"
   },
   "source": [
    "### Task 1.3:\n",
    "What is the mean and standard deviation of each quantitative predictor?"
   ]
  },
  {
   "cell_type": "code",
   "execution_count": null,
   "metadata": {
    "id": "AkmtgEqNecfN"
   },
   "outputs": [],
   "source": [
    "# your code here"
   ]
  },
  {
   "cell_type": "markdown",
   "metadata": {
    "id": "pdgOF4JIeUz7"
   },
   "source": [
    "### Task 1.4:\n",
    "Now remove the 10th through 85th observations. What is the range, mean, and standard deviation of each predictor in the subset of the data that remains?"
   ]
  },
  {
   "cell_type": "markdown",
   "metadata": {
    "id": "cA-IwS0Kf7bP"
   },
   "source": [
    "### Task 1.5:\n",
    "Using the full data set, investigate the predictors graphically, using scatterplots or other tools of your choice. Create some plots highlighting the relationships among the predictors. Comment on your findings."
   ]
  },
  {
   "cell_type": "code",
   "execution_count": null,
   "metadata": {
    "id": "3ypkNsHaeRpA"
   },
   "outputs": [],
   "source": [
    "# your code here"
   ]
  },
  {
   "cell_type": "markdown",
   "metadata": {
    "id": "b5rAeEd3gOdh"
   },
   "source": [
    "### Task 1.6:\n",
    "Suppose that we wish to predict gas mileage (mpg) on the basis of the other variables. Do your plots suggest that any of the other variables might be useful in predicting mpg? Justify your answer."
   ]
  },
  {
   "cell_type": "markdown",
   "metadata": {
    "id": "Af636CNbgYB8"
   },
   "source": [
    "*Your answer here*"
   ]
  },
  {
   "cell_type": "markdown",
   "metadata": {
    "id": "bZiBED3igcXq"
   },
   "source": [
    "## Part 2 (see textbook Exercise 3.7.9)"
   ]
  },
  {
   "cell_type": "markdown",
   "metadata": {
    "id": "PX8fMJx6gu0r"
   },
   "source": [
    "### Task 2.1:\n",
    "Use the `sm.OLS()` function to perform a simple linear regression with `mpg` as the response and `horsepower` as the predictor. Use\n",
    "the `summarize()` function to print the results. Comment on the output.\n",
    "\n",
    "For example:\n",
    "1. Is there a relationship between the predictor\n",
    "and the response?\n",
    "2. How strong is the relationship between the predictor and the response?\n",
    "3. Is the relationship between the predictor and the response positive or negative?\n",
    "4. What is the predicted mpg associated with a horsepower of 98?\n",
    "5. What are the associated 95 % confidence and prediction intervals?"
   ]
  },
  {
   "cell_type": "code",
   "execution_count": null,
   "metadata": {
    "id": "E2rffkurgPm6"
   },
   "outputs": [],
   "source": [
    "# your code here"
   ]
  },
  {
   "cell_type": "markdown",
   "metadata": {
    "id": "S2ga0y6l3e7R"
   },
   "source": [
    "### Task 2.2:\n",
    "Plot the response and the predictor in a new set of axes `ax`. Use the `ax.axline()` method or the `abline()` function defined in the lab to display the least squares regression line."
   ]
  },
  {
   "cell_type": "code",
   "execution_count": null,
   "metadata": {
    "id": "gxqXZdJ93Yyu"
   },
   "outputs": [],
   "source": [
    "# your code here"
   ]
  },
  {
   "cell_type": "markdown",
   "metadata": {
    "id": "PAAUmT16BP8P"
   },
   "source": [
    "# B) Simulation study: investigating the effect of noise\n",
    "(see textbook Exercise 3.7.13)\n",
    "\n",
    "In this exercise you will create some simulated data and will fit simple linear regression models to it. Make sure to use the default random number generator with seed set to 1 prior to starting part (a) to ensure consistent results."
   ]
  },
  {
   "cell_type": "markdown",
   "metadata": {
    "id": "cKSx2fq9B2e1"
   },
   "source": [
    "## Task 3.1:\n",
    "Using the `normal()` method of [your random number generator](https://numpy.org/doc/stable/reference/random/generator.html) (`np.random.default_rng()`), create a vector, `x`, containing 100 observations drawn from a $N(0, 1)$ distribution. This represents a feature, `X`."
   ]
  },
  {
   "cell_type": "code",
   "execution_count": null,
   "metadata": {
    "id": "EyWNARGXB-Ca"
   },
   "outputs": [],
   "source": [
    "# your code here"
   ]
  },
  {
   "cell_type": "markdown",
   "metadata": {
    "id": "nwPzhTH6DalA"
   },
   "source": [
    "## Task 3.2:\n",
    "Using the `normal()` method, create a vector, `eps`, containing 100\n",
    "observations drawn from a $N(0, 0.25)$ distribution — a normal\n",
    "distribution with mean zero and variance $0.25$."
   ]
  },
  {
   "cell_type": "code",
   "execution_count": null,
   "metadata": {
    "id": "n0ueDrJOCrRG"
   },
   "outputs": [],
   "source": [
    "# your code here"
   ]
  },
  {
   "cell_type": "markdown",
   "metadata": {
    "id": "jXntPtd2EXGj"
   },
   "source": [
    "## Task 3.3:\n",
    "Using `x` and `eps`, generate a vector `y` according to the model\n",
    "$$Y = −1 + 0.5X + \\varepsilon.$$\n",
    "What is the length of the vector `y`? What are the values of $\\beta_0$ and $\\beta_1$ in this linear model?"
   ]
  },
  {
   "cell_type": "code",
   "execution_count": null,
   "metadata": {
    "id": "lCcOEZPyEBAn"
   },
   "outputs": [],
   "source": [
    "# your code here"
   ]
  },
  {
   "cell_type": "markdown",
   "metadata": {
    "id": "VPPvrE1QEvDB"
   },
   "source": [
    "## Task 3.4:\n",
    "Create a scatterplot displaying the relationship between `x`and `y`. Comment on what you observe."
   ]
  },
  {
   "cell_type": "code",
   "execution_count": null,
   "metadata": {
    "id": "ZGjqHd2MErTY"
   },
   "outputs": [],
   "source": [
    "# your code here"
   ]
  },
  {
   "cell_type": "markdown",
   "metadata": {
    "id": "lYiP2cegFIuM"
   },
   "source": [
    "## Task 3.5:\n",
    "Fit a least squares linear model to predict `y` using `x`. Comment on the model obtained. How do $\\hat{\\beta}_0$ and $\\hat{\\beta}_1$ compare to $\\beta_0$ and $\\beta_1$?"
   ]
  },
  {
   "cell_type": "code",
   "execution_count": null,
   "metadata": {
    "id": "vFqkfwmkE6ge"
   },
   "outputs": [],
   "source": [
    "# your code here"
   ]
  },
  {
   "cell_type": "markdown",
   "metadata": {
    "id": "feqlswnsGt7f"
   },
   "source": [
    "## Task 3.6:\n",
    "Display the least squares line on the scatterplot obtained in Task 3.4. Draw the population regression line on the plot, in a different color. Use the `legend()` method of the axes to create an appropriate legend."
   ]
  },
  {
   "cell_type": "code",
   "execution_count": null,
   "metadata": {
    "id": "GHr9nmQhGf7E"
   },
   "outputs": [],
   "source": [
    "# your code here"
   ]
  },
  {
   "cell_type": "markdown",
   "metadata": {
    "id": "U27_HZ20Jn_I"
   },
   "source": [
    "## Task 3.7:\n",
    "Repeat Steps 3.1 to 3.6 after modifying the data generation process in such a way that there is *less* noise in the data. The true model should remain the same. You can do this by increasing\n",
    "the variance of the normal distribution used to generate the error term $\\varepsilon$ in Task 3.2. Describe your results."
   ]
  },
  {
   "cell_type": "code",
   "execution_count": null,
   "metadata": {
    "id": "4oJRZxRWHfks"
   },
   "outputs": [],
   "source": [
    "# your code here"
   ]
  },
  {
   "cell_type": "markdown",
   "metadata": {
    "id": "-bSFwD0UKEu8"
   },
   "source": [
    "## Task 3.7:\n",
    "Repeat Steps 3.1 to 3.6 after modifying the data generation process in such a way that there is *more* noise in the data. The true model should remain the same. You can do this by increasing\n",
    "the variance of the normal distribution used to generate the error term $\\varepsilon$ in Task 3.2. Describe your results."
   ]
  },
  {
   "cell_type": "code",
   "execution_count": null,
   "metadata": {
    "id": "0ORoUjVPKDqR"
   },
   "outputs": [],
   "source": [
    "# your code here"
   ]
  },
  {
   "cell_type": "markdown",
   "metadata": {
    "id": "xCIy4LlXKcdC"
   },
   "source": [
    "# C) Extending the case study from A) by including multiple regressors into the model\n",
    "\n",
    "(see textbook Exercise 3.7.9)"
   ]
  },
  {
   "cell_type": "markdown",
   "metadata": {
    "id": "2ipBn1esKkAf"
   },
   "source": [
    "## Task 4.1:\n",
    "Produce a scatterplot matrix which includes all of the variables\n",
    "in the data set."
   ]
  },
  {
   "cell_type": "code",
   "execution_count": null,
   "metadata": {
    "id": "X_rxhaXYKPAt"
   },
   "outputs": [],
   "source": [
    "# your code here"
   ]
  },
  {
   "cell_type": "markdown",
   "metadata": {
    "id": "AO0jT0RAL1hl"
   },
   "source": [
    "## Task 4.2:\n",
    "Compute the matrix of correlations between the variables using\n",
    "the `DataFrame.corr()` method."
   ]
  },
  {
   "cell_type": "code",
   "execution_count": null,
   "metadata": {
    "id": "JCHXshmlLShx"
   },
   "outputs": [],
   "source": [
    "# your code here"
   ]
  },
  {
   "cell_type": "markdown",
   "metadata": {
    "id": "0TnlBH9OMG9N"
   },
   "source": [
    "## Task 4.3:\n",
    "Use the `sm.OLS()` function to perform a multiple linear regression\n",
    "with mpg as the response and all other variables except name as\n",
    "the predictors. Use the `summarize()` function to print the results.\n",
    "Comment on the output. For instance:\n",
    "1. Is there a relationship between the predictors and the response?\n",
    "Use the `summary()` method from `statsmodels` to answer this question.\n",
    "2. Which predictors appear to have a statistically significant\n",
    "relationship to the response?\n",
    "3. What does the coefficient for the year variable suggest?"
   ]
  },
  {
   "cell_type": "code",
   "execution_count": null,
   "metadata": {
    "id": "2ZOlrZCtMBUk"
   },
   "outputs": [],
   "source": [
    "# your code here"
   ]
  }
 ],
 "metadata": {
  "colab": {
   "authorship_tag": "ABX9TyML/Ltq24P+NMJhwvAN4+n6",
   "include_colab_link": true,
   "provenance": []
  },
  "kernelspec": {
   "display_name": "Python 3 (ipykernel)",
   "language": "python",
   "name": "python3"
  },
  "language_info": {
   "codemirror_mode": {
    "name": "ipython",
    "version": 3
   },
   "file_extension": ".py",
   "mimetype": "text/x-python",
   "name": "python",
   "nbconvert_exporter": "python",
   "pygments_lexer": "ipython3",
   "version": "3.9.7"
  }
 },
 "nbformat": 4,
 "nbformat_minor": 4
}
