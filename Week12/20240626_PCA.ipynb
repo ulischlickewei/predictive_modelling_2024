{
 "cells": [
  {
   "cell_type": "markdown",
   "metadata": {
    "id": "0CGc73kPepMp"
   },
   "source": [
    "# Implementation of PCA\n",
    "\n",
    "Content credit: The case study used in this notebook has been prepared by the teaching staff of Berkeley's Data Science 100 class."
   ]
  },
  {
   "cell_type": "code",
   "execution_count": null,
   "metadata": {
    "id": "8gYpxzRLepMs",
    "tags": []
   },
   "outputs": [],
   "source": [
    "import numpy as np\n",
    "import pandas as pd\n",
    "import seaborn as sns\n",
    "import matplotlib.pyplot as plt\n",
    "import yaml\n",
    "from datetime import datetime\n",
    "\n",
    "np.random.seed(23) #kallisti\n",
    "\n",
    "plt.rcParams['figure.figsize'] = (4, 4)\n",
    "plt.rcParams['figure.dpi'] = 150\n",
    "sns.set()"
   ]
  },
  {
   "cell_type": "markdown",
   "metadata": {
    "id": "qak0vMQCepMt"
   },
   "source": [
    "## Congressional Vote Data"
   ]
  },
  {
   "cell_type": "markdown",
   "metadata": {
    "id": "qEVBQT2jepMt"
   },
   "source": [
    "In this case study we examine how the House of Representatives (of the 116th Congress, 1st session) voted in the month of **September 2019**.\n",
    "\n",
    "From the [U.S. Senate website](https://www.senate.gov/reference/Index/Votes.htm):\n",
    "\n",
    "> Roll call votes occur when a representative or senator votes \"yea\" or \"nay,\" so that the names of members voting on each side are recorded. A voice vote is a vote in which those in favor or against a measure say \"yea\" or \"nay,\" respectively, without the names or tallies of members voting on each side being recorded.\n",
    "\n",
    "The data, compiled from ProPublica [source](https://github.com/eyeseast/propublica-congress), is a \"skinny\" table of data where each record is a single vote by a member across any roll call in the 116th Congress, 1st session, as downloaded in February 2020. The member of the House, whom we'll call **legislator**, is denoted by their bioguide alphanumeric ID in http://bioguide.congress.gov/."
   ]
  },
  {
   "cell_type": "code",
   "execution_count": null,
   "metadata": {
    "colab": {
     "base_uri": "https://localhost:8080/",
     "height": 436
    },
    "id": "WAv3mRL4epMu",
    "outputId": "d8d2724c-196b-41e3-9c11-c406899cb11f"
   },
   "outputs": [],
   "source": [
    "# February 2019 House of Representatives roll call votes\n",
    "# Downloaded using https://github.com/eyeseast/propublica-congress\n",
    "url_votes = 'https://raw.githubusercontent.com/ulischlickewei/Mathe2-DS/main/votes.csv'\n",
    "votes = pd.read_csv(url_votes)\n",
    "votes = votes.astype({\"roll call\": str})\n",
    "votes"
   ]
  },
  {
   "cell_type": "markdown",
   "metadata": {},
   "source": [
    "## Task 1"
   ]
  },
  {
   "cell_type": "markdown",
   "metadata": {
    "id": "zo_GB6j-epMu"
   },
   "source": [
    "Describe how the cell below transforms the data. You might be interested in looking up the [official tutorial for Pivot tables](https://pandas.pydata.org/docs/user_guide/reshaping.html) or the documentation of [`pivot_table()`](https://pandas.pydata.org/pandas-docs/stable/reference/api/pandas.pivot_table.html)."
   ]
  },
  {
   "cell_type": "code",
   "execution_count": null,
   "metadata": {
    "colab": {
     "base_uri": "https://localhost:8080/",
     "height": 316
    },
    "id": "mfLdK184epMv",
    "outputId": "eb4f548c-8ba3-40a8-cb49-ca6d8a652692"
   },
   "outputs": [],
   "source": [
    "def was_yes(s):\n",
    "    return 1 if s.iloc[0] == \"Yes\" else 0\n",
    "\n",
    "vote_pivot = votes.pivot_table(index='member',\n",
    "                                columns='roll call',\n",
    "                                values='vote',\n",
    "                                aggfunc=was_yes,\n",
    "                                fill_value=0)\n",
    "print(vote_pivot.shape)\n",
    "vote_pivot.head()"
   ]
  },
  {
   "cell_type": "markdown",
   "metadata": {},
   "source": [
    "**Solution**: We pivot the table to group each legislator and their voting pattern across every (roll call) vote in this month. We mark 1 if the legislator voted Yes (yea), and 0 otherwise (No/nay, no vote, speaker, etc.). This is done using the Pandas function `pivot_table()` with a custom aggregation function which simply takes the first entry of a Series and maps this to 0 or to 1 depending on whether the voting behaviour was \"Yes\" or \"No\""
   ]
  },
  {
   "cell_type": "markdown",
   "metadata": {
    "id": "4RESOCyLepMv"
   },
   "source": [
    "**How do we analyze this data?**\n",
    "\n",
    "While we could consider loading information about the legislator, such as their party, and see how this relates to their voting pattern, it turns out that we can do a lot with PCA to cluster legislators by how they vote."
   ]
  },
  {
   "cell_type": "markdown",
   "metadata": {
    "id": "UQ99pQI2epMv"
   },
   "source": [
    "## Task 2\n",
    "Center the data by subtracting the mean from each feature."
   ]
  },
  {
   "cell_type": "code",
   "execution_count": null,
   "metadata": {
    "colab": {
     "base_uri": "https://localhost:8080/",
     "height": 300
    },
    "id": "_WHrYWuiepMv",
    "outputId": "b1cfbc79-7d71-4a41-d767-5134f31ecc75"
   },
   "outputs": [],
   "source": [
    "vote_pivot_centered = ...\n",
    "vote_pivot_centered.head(5)"
   ]
  },
  {
   "cell_type": "markdown",
   "metadata": {},
   "source": [
    "## Task 3\n",
    "Use the function `np.linalg.svd()` (see [documentation](https://numpy.org/doc/stable/reference/generated/numpy.linalg.svd.html)) to compute the singular value decomposition of the centered data matrix."
   ]
  },
  {
   "cell_type": "code",
   "execution_count": null,
   "metadata": {
    "id": "vcMV-B7lFJmY"
   },
   "outputs": [],
   "source": [
    "u, s, vt = ..."
   ]
  },
  {
   "cell_type": "markdown",
   "metadata": {},
   "source": [
    "## Task 4\n",
    "If the first two singular values are large and all others are small, then two dimensions are enough to describe most of what distinguishes one observation from another. If not, then a PCA scatter plot is omitting lots of information.\n",
    "\n",
    "An equivalent way to evaluate this is to determine the **variance ratios**, i.e., the fraction of the variance each PC contributes to total variance.\n",
    "\n",
    "Compute the variance ratios for the centered Congressional Vote Data."
   ]
  },
  {
   "cell_type": "code",
   "execution_count": null,
   "metadata": {},
   "outputs": [],
   "source": [
    "variance_ratios = ...\n",
    "variance_ratios"
   ]
  },
  {
   "cell_type": "markdown",
   "metadata": {},
   "source": [
    "## Task 5\n",
    "A [**scree plot**](https://en.wikipedia.org/wiki/Scree_plot) (and where its \"elbow\" is located) is a visual way of checking the distribution of variance. Technically, it simply consists of a [line plot](https://matplotlib.org/stable/api/_as_gen/matplotlib.pyplot.plot.html) of the distribution of variance of the dataset.\n",
    "\n",
    "Create a scree plot to visualize how much of the variance is explained by the first principal components of our dataset."
   ]
  },
  {
   "cell_type": "code",
   "execution_count": null,
   "metadata": {},
   "outputs": [],
   "source": [
    "plt.plot(s**2, marker='.'); # square of singular values"
   ]
  },
  {
   "cell_type": "markdown",
   "metadata": {
    "id": "VQzpGJXbHxL6"
   },
   "source": [
    "## Task 6"
   ]
  },
  {
   "cell_type": "markdown",
   "metadata": {
    "id": "kAdRckAYepMy"
   },
   "source": [
    "Project the centered data to PC1 and PC2 and create a scatterplot of the projected data in $\\mathbb{R}^2$."
   ]
  },
  {
   "cell_type": "code",
   "execution_count": null,
   "metadata": {
    "id": "Z9pJ23SCILOP"
   },
   "outputs": [],
   "source": [
    "...\n",
    "projection = ..."
   ]
  },
  {
   "cell_type": "code",
   "execution_count": null,
   "metadata": {
    "colab": {
     "base_uri": "https://localhost:8080/",
     "height": 609
    },
    "id": "Ys6G75CbepMy",
    "outputId": "9ca9f6f6-a38b-4991-a338-855da7f118bd"
   },
   "outputs": [],
   "source": [
    "sns.scatterplot(...);\n",
    "plt.xlabel(\"PC1\");\n",
    "plt.ylabel(\"PC2\");"
   ]
  },
  {
   "cell_type": "markdown",
   "metadata": {
    "id": "DfrSsMeeepMy"
   },
   "source": [
    "Baesd on the plot above, it looks like there are two clusters of datapoints. What do you think this corresponds to?"
   ]
  },
  {
   "cell_type": "markdown",
   "metadata": {},
   "source": [
    "## Task 7\n",
    "Use [`sklearn.decomposition.PCA()`](https://scikit-learn.org/stable/modules/generated/sklearn.decomposition.PCA.html) to compute the PCA of the original congressional vote dataset and to project the dataset to the first two principal components. Then create the same scatterplot as in Task 6."
   ]
  },
  {
   "cell_type": "code",
   "execution_count": null,
   "metadata": {},
   "outputs": [],
   "source": [
    "from sklearn.decomposition import PCA\n",
    "pca = ...\n",
    "projection2 = ..."
   ]
  },
  {
   "cell_type": "code",
   "execution_count": null,
   "metadata": {},
   "outputs": [],
   "source": [
    "sns.scatterplot(...);\n",
    "plt.xlabel(\"PC1\");\n",
    "plt.ylabel(\"PC2\");"
   ]
  },
  {
   "cell_type": "markdown",
   "metadata": {
    "id": "c7v_MRcSepMy"
   },
   "source": [
    "## Incorporating Member Information"
   ]
  },
  {
   "cell_type": "markdown",
   "metadata": {
    "id": "SYsBENysepMy"
   },
   "source": [
    "In the following we load in more member information, from https://github.com/unitedstates/congress-legislators. This includes each legislator's political party."
   ]
  },
  {
   "cell_type": "code",
   "execution_count": null,
   "metadata": {
    "colab": {
     "base_uri": "https://localhost:8080/",
     "height": 436
    },
    "id": "VoMjtdjMepMz",
    "outputId": "95766d13-7f0f-40c9-a249-052df5f01be0"
   },
   "outputs": [],
   "source": [
    "legislators_url = 'https://raw.githubusercontent.com/ulischlickewei/Mathe2-DS/main/legislators-current.yaml'\n",
    "import requests\n",
    "r = requests.get(legislators_url)\n",
    "legislators_data = yaml.safe_load(r.content)\n",
    "\n",
    "def to_date(s):\n",
    "    return datetime.strptime(s, '%Y-%m-%d')\n",
    "\n",
    "legs = pd.DataFrame(\n",
    "    columns=['leg_id', 'first', 'last', 'gender', 'state', 'chamber', 'party', 'birthday'],\n",
    "    data=[[x['id']['bioguide'],\n",
    "           x['name']['first'],\n",
    "           x['name']['last'],\n",
    "           x['bio']['gender'],\n",
    "           x['terms'][-1]['state'],\n",
    "           x['terms'][-1]['type'],\n",
    "           x['terms'][-1]['party'],\n",
    "           to_date(x['bio']['birthday'])] for x in legislators_data])\n",
    "\n",
    "legs.set_index(\"leg_id\")\n",
    "legs.sort_index()"
   ]
  },
  {
   "cell_type": "markdown",
   "metadata": {
    "id": "xZiI7bQVepMz"
   },
   "source": [
    "Let's check out how party affiliations relate to the PC1, PC2 transformation from earlier:"
   ]
  },
  {
   "cell_type": "code",
   "execution_count": null,
   "metadata": {},
   "outputs": [],
   "source": [
    "vote2d = pd.DataFrame({\n",
    "    'member': vote_pivot.index,\n",
    "    'pc1': pcs[:, 0],\n",
    "    'pc2': pcs[:, 1]\n",
    "}).merge(legs, left_on='member', right_on='leg_id')\n",
    "\n",
    "vote2d[vote2d['pc1'] < 0]['party'].value_counts()"
   ]
  },
  {
   "cell_type": "markdown",
   "metadata": {
    "id": "kf7kXnEkepM0"
   },
   "source": [
    "## Task 8\n",
    "Adapt your scatterplot from above by incorporating the party labels as colors for the projected dataset. Use the `hue` option for this."
   ]
  },
  {
   "cell_type": "code",
   "execution_count": null,
   "metadata": {
    "colab": {
     "base_uri": "https://localhost:8080/",
     "height": 609
    },
    "id": "R_HBU7JvepM0",
    "outputId": "e00bd654-3e64-43e7-de1c-3000373b73e5"
   },
   "outputs": [],
   "source": [
    "...\n",
    "\n",
    "sns.scatterplot(...);"
   ]
  }
 ],
 "metadata": {
  "colab": {
   "include_colab_link": true,
   "provenance": []
  },
  "kernelspec": {
   "display_name": "Python 3 (ipykernel)",
   "language": "python",
   "name": "python3"
  },
  "language_info": {
   "codemirror_mode": {
    "name": "ipython",
    "version": 3
   },
   "file_extension": ".py",
   "mimetype": "text/x-python",
   "name": "python",
   "nbconvert_exporter": "python",
   "pygments_lexer": "ipython3",
   "version": "3.9.7"
  }
 },
 "nbformat": 4,
 "nbformat_minor": 4
}
