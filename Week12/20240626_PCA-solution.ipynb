{
 "cells": [
  {
   "cell_type": "markdown",
   "metadata": {
    "id": "0CGc73kPepMp"
   },
   "source": [
    "# Implementation of PCA\n",
    "\n",
    "Content credit: The case study used in this notebook has been prepared by the teaching staff of Berkeley's Data Science 100 class."
   ]
  },
  {
   "cell_type": "code",
   "execution_count": 3,
   "metadata": {
    "id": "8gYpxzRLepMs",
    "tags": []
   },
   "outputs": [],
   "source": [
    "import numpy as np\n",
    "import pandas as pd\n",
    "import seaborn as sns\n",
    "import matplotlib.pyplot as plt\n",
    "import yaml\n",
    "from datetime import datetime\n",
    "\n",
    "np.random.seed(23) #kallisti\n",
    "\n",
    "plt.rcParams['figure.figsize'] = (4, 4)\n",
    "plt.rcParams['figure.dpi'] = 150\n",
    "sns.set()"
   ]
  },
  {
   "cell_type": "markdown",
   "metadata": {
    "id": "qak0vMQCepMt"
   },
   "source": [
    "## Congressional Vote Data"
   ]
  },
  {
   "cell_type": "markdown",
   "metadata": {
    "id": "qEVBQT2jepMt"
   },
   "source": [
    "In this case study we examine how the House of Representatives (of the 116th Congress, 1st session) voted in the month of **September 2019**.\n",
    "\n",
    "From the [U.S. Senate website](https://www.senate.gov/reference/Index/Votes.htm):\n",
    "\n",
    "> Roll call votes occur when a representative or senator votes \"yea\" or \"nay,\" so that the names of members voting on each side are recorded. A voice vote is a vote in which those in favor or against a measure say \"yea\" or \"nay,\" respectively, without the names or tallies of members voting on each side being recorded.\n",
    "\n",
    "The data, compiled from ProPublica [source](https://github.com/eyeseast/propublica-congress), is a \"skinny\" table of data where each record is a single vote by a member across any roll call in the 116th Congress, 1st session, as downloaded in February 2020. The member of the House, whom we'll call **legislator**, is denoted by their bioguide alphanumeric ID in http://bioguide.congress.gov/."
   ]
  },
  {
   "cell_type": "code",
   "execution_count": 4,
   "metadata": {
    "colab": {
     "base_uri": "https://localhost:8080/",
     "height": 436
    },
    "id": "WAv3mRL4epMu",
    "outputId": "d8d2724c-196b-41e3-9c11-c406899cb11f"
   },
   "outputs": [
    {
     "data": {
      "text/html": [
       "<div>\n",
       "<style scoped>\n",
       "    .dataframe tbody tr th:only-of-type {\n",
       "        vertical-align: middle;\n",
       "    }\n",
       "\n",
       "    .dataframe tbody tr th {\n",
       "        vertical-align: top;\n",
       "    }\n",
       "\n",
       "    .dataframe thead th {\n",
       "        text-align: right;\n",
       "    }\n",
       "</style>\n",
       "<table border=\"1\" class=\"dataframe\">\n",
       "  <thead>\n",
       "    <tr style=\"text-align: right;\">\n",
       "      <th></th>\n",
       "      <th>chamber</th>\n",
       "      <th>session</th>\n",
       "      <th>roll call</th>\n",
       "      <th>member</th>\n",
       "      <th>vote</th>\n",
       "    </tr>\n",
       "  </thead>\n",
       "  <tbody>\n",
       "    <tr>\n",
       "      <th>0</th>\n",
       "      <td>House</td>\n",
       "      <td>1</td>\n",
       "      <td>555</td>\n",
       "      <td>A000374</td>\n",
       "      <td>Not Voting</td>\n",
       "    </tr>\n",
       "    <tr>\n",
       "      <th>1</th>\n",
       "      <td>House</td>\n",
       "      <td>1</td>\n",
       "      <td>555</td>\n",
       "      <td>A000370</td>\n",
       "      <td>Yes</td>\n",
       "    </tr>\n",
       "    <tr>\n",
       "      <th>2</th>\n",
       "      <td>House</td>\n",
       "      <td>1</td>\n",
       "      <td>555</td>\n",
       "      <td>A000055</td>\n",
       "      <td>No</td>\n",
       "    </tr>\n",
       "    <tr>\n",
       "      <th>3</th>\n",
       "      <td>House</td>\n",
       "      <td>1</td>\n",
       "      <td>555</td>\n",
       "      <td>A000371</td>\n",
       "      <td>Yes</td>\n",
       "    </tr>\n",
       "    <tr>\n",
       "      <th>4</th>\n",
       "      <td>House</td>\n",
       "      <td>1</td>\n",
       "      <td>555</td>\n",
       "      <td>A000372</td>\n",
       "      <td>No</td>\n",
       "    </tr>\n",
       "    <tr>\n",
       "      <th>...</th>\n",
       "      <td>...</td>\n",
       "      <td>...</td>\n",
       "      <td>...</td>\n",
       "      <td>...</td>\n",
       "      <td>...</td>\n",
       "    </tr>\n",
       "    <tr>\n",
       "      <th>17823</th>\n",
       "      <td>House</td>\n",
       "      <td>1</td>\n",
       "      <td>515</td>\n",
       "      <td>Y000062</td>\n",
       "      <td>Yes</td>\n",
       "    </tr>\n",
       "    <tr>\n",
       "      <th>17824</th>\n",
       "      <td>House</td>\n",
       "      <td>1</td>\n",
       "      <td>515</td>\n",
       "      <td>Y000065</td>\n",
       "      <td>No</td>\n",
       "    </tr>\n",
       "    <tr>\n",
       "      <th>17825</th>\n",
       "      <td>House</td>\n",
       "      <td>1</td>\n",
       "      <td>515</td>\n",
       "      <td>Y000033</td>\n",
       "      <td>Yes</td>\n",
       "    </tr>\n",
       "    <tr>\n",
       "      <th>17826</th>\n",
       "      <td>House</td>\n",
       "      <td>1</td>\n",
       "      <td>515</td>\n",
       "      <td>Z000017</td>\n",
       "      <td>Yes</td>\n",
       "    </tr>\n",
       "    <tr>\n",
       "      <th>17827</th>\n",
       "      <td>House</td>\n",
       "      <td>1</td>\n",
       "      <td>515</td>\n",
       "      <td>P000197</td>\n",
       "      <td>Speaker</td>\n",
       "    </tr>\n",
       "  </tbody>\n",
       "</table>\n",
       "<p>17828 rows × 5 columns</p>\n",
       "</div>"
      ],
      "text/plain": [
       "      chamber  session roll call   member        vote\n",
       "0       House        1       555  A000374  Not Voting\n",
       "1       House        1       555  A000370         Yes\n",
       "2       House        1       555  A000055          No\n",
       "3       House        1       555  A000371         Yes\n",
       "4       House        1       555  A000372          No\n",
       "...       ...      ...       ...      ...         ...\n",
       "17823   House        1       515  Y000062         Yes\n",
       "17824   House        1       515  Y000065          No\n",
       "17825   House        1       515  Y000033         Yes\n",
       "17826   House        1       515  Z000017         Yes\n",
       "17827   House        1       515  P000197     Speaker\n",
       "\n",
       "[17828 rows x 5 columns]"
      ]
     },
     "execution_count": 4,
     "metadata": {},
     "output_type": "execute_result"
    }
   ],
   "source": [
    "# February 2019 House of Representatives roll call votes\n",
    "# Downloaded using https://github.com/eyeseast/propublica-congress\n",
    "url_votes = 'https://raw.githubusercontent.com/ulischlickewei/Mathe2-DS/main/votes.csv'\n",
    "votes = pd.read_csv(url_votes)\n",
    "votes = votes.astype({\"roll call\": str})\n",
    "votes"
   ]
  },
  {
   "cell_type": "markdown",
   "metadata": {},
   "source": [
    "## Task 1"
   ]
  },
  {
   "cell_type": "markdown",
   "metadata": {
    "id": "zo_GB6j-epMu"
   },
   "source": [
    "Describe how the cell below transforms the data. You might be interested in looking up the [official tutorial for Pivot tables](https://pandas.pydata.org/docs/user_guide/reshaping.html) or the documentation of [`pivot_table()`](https://pandas.pydata.org/pandas-docs/stable/reference/api/pandas.pivot_table.html)."
   ]
  },
  {
   "cell_type": "code",
   "execution_count": 5,
   "metadata": {
    "colab": {
     "base_uri": "https://localhost:8080/",
     "height": 316
    },
    "id": "mfLdK184epMv",
    "outputId": "eb4f548c-8ba3-40a8-cb49-ca6d8a652692"
   },
   "outputs": [
    {
     "name": "stdout",
     "output_type": "stream",
     "text": [
      "(441, 41)\n"
     ]
    },
    {
     "data": {
      "text/html": [
       "<div>\n",
       "<style scoped>\n",
       "    .dataframe tbody tr th:only-of-type {\n",
       "        vertical-align: middle;\n",
       "    }\n",
       "\n",
       "    .dataframe tbody tr th {\n",
       "        vertical-align: top;\n",
       "    }\n",
       "\n",
       "    .dataframe thead th {\n",
       "        text-align: right;\n",
       "    }\n",
       "</style>\n",
       "<table border=\"1\" class=\"dataframe\">\n",
       "  <thead>\n",
       "    <tr style=\"text-align: right;\">\n",
       "      <th>roll call</th>\n",
       "      <th>515</th>\n",
       "      <th>516</th>\n",
       "      <th>517</th>\n",
       "      <th>518</th>\n",
       "      <th>519</th>\n",
       "      <th>520</th>\n",
       "      <th>521</th>\n",
       "      <th>522</th>\n",
       "      <th>523</th>\n",
       "      <th>524</th>\n",
       "      <th>...</th>\n",
       "      <th>546</th>\n",
       "      <th>547</th>\n",
       "      <th>548</th>\n",
       "      <th>549</th>\n",
       "      <th>550</th>\n",
       "      <th>551</th>\n",
       "      <th>552</th>\n",
       "      <th>553</th>\n",
       "      <th>554</th>\n",
       "      <th>555</th>\n",
       "    </tr>\n",
       "    <tr>\n",
       "      <th>member</th>\n",
       "      <th></th>\n",
       "      <th></th>\n",
       "      <th></th>\n",
       "      <th></th>\n",
       "      <th></th>\n",
       "      <th></th>\n",
       "      <th></th>\n",
       "      <th></th>\n",
       "      <th></th>\n",
       "      <th></th>\n",
       "      <th></th>\n",
       "      <th></th>\n",
       "      <th></th>\n",
       "      <th></th>\n",
       "      <th></th>\n",
       "      <th></th>\n",
       "      <th></th>\n",
       "      <th></th>\n",
       "      <th></th>\n",
       "      <th></th>\n",
       "      <th></th>\n",
       "    </tr>\n",
       "  </thead>\n",
       "  <tbody>\n",
       "    <tr>\n",
       "      <th>A000055</th>\n",
       "      <td>1</td>\n",
       "      <td>0</td>\n",
       "      <td>0</td>\n",
       "      <td>0</td>\n",
       "      <td>1</td>\n",
       "      <td>1</td>\n",
       "      <td>0</td>\n",
       "      <td>1</td>\n",
       "      <td>1</td>\n",
       "      <td>1</td>\n",
       "      <td>...</td>\n",
       "      <td>0</td>\n",
       "      <td>0</td>\n",
       "      <td>1</td>\n",
       "      <td>0</td>\n",
       "      <td>0</td>\n",
       "      <td>1</td>\n",
       "      <td>0</td>\n",
       "      <td>0</td>\n",
       "      <td>1</td>\n",
       "      <td>0</td>\n",
       "    </tr>\n",
       "    <tr>\n",
       "      <th>A000367</th>\n",
       "      <td>0</td>\n",
       "      <td>0</td>\n",
       "      <td>0</td>\n",
       "      <td>0</td>\n",
       "      <td>0</td>\n",
       "      <td>0</td>\n",
       "      <td>0</td>\n",
       "      <td>0</td>\n",
       "      <td>0</td>\n",
       "      <td>0</td>\n",
       "      <td>...</td>\n",
       "      <td>0</td>\n",
       "      <td>1</td>\n",
       "      <td>1</td>\n",
       "      <td>1</td>\n",
       "      <td>1</td>\n",
       "      <td>0</td>\n",
       "      <td>1</td>\n",
       "      <td>1</td>\n",
       "      <td>0</td>\n",
       "      <td>1</td>\n",
       "    </tr>\n",
       "    <tr>\n",
       "      <th>A000369</th>\n",
       "      <td>1</td>\n",
       "      <td>1</td>\n",
       "      <td>0</td>\n",
       "      <td>0</td>\n",
       "      <td>1</td>\n",
       "      <td>1</td>\n",
       "      <td>0</td>\n",
       "      <td>1</td>\n",
       "      <td>1</td>\n",
       "      <td>1</td>\n",
       "      <td>...</td>\n",
       "      <td>0</td>\n",
       "      <td>0</td>\n",
       "      <td>1</td>\n",
       "      <td>0</td>\n",
       "      <td>0</td>\n",
       "      <td>1</td>\n",
       "      <td>0</td>\n",
       "      <td>0</td>\n",
       "      <td>1</td>\n",
       "      <td>0</td>\n",
       "    </tr>\n",
       "    <tr>\n",
       "      <th>A000370</th>\n",
       "      <td>1</td>\n",
       "      <td>1</td>\n",
       "      <td>1</td>\n",
       "      <td>1</td>\n",
       "      <td>1</td>\n",
       "      <td>0</td>\n",
       "      <td>1</td>\n",
       "      <td>0</td>\n",
       "      <td>0</td>\n",
       "      <td>0</td>\n",
       "      <td>...</td>\n",
       "      <td>1</td>\n",
       "      <td>1</td>\n",
       "      <td>1</td>\n",
       "      <td>1</td>\n",
       "      <td>1</td>\n",
       "      <td>0</td>\n",
       "      <td>1</td>\n",
       "      <td>1</td>\n",
       "      <td>1</td>\n",
       "      <td>1</td>\n",
       "    </tr>\n",
       "    <tr>\n",
       "      <th>A000371</th>\n",
       "      <td>1</td>\n",
       "      <td>1</td>\n",
       "      <td>1</td>\n",
       "      <td>1</td>\n",
       "      <td>1</td>\n",
       "      <td>0</td>\n",
       "      <td>1</td>\n",
       "      <td>0</td>\n",
       "      <td>0</td>\n",
       "      <td>0</td>\n",
       "      <td>...</td>\n",
       "      <td>1</td>\n",
       "      <td>1</td>\n",
       "      <td>1</td>\n",
       "      <td>1</td>\n",
       "      <td>1</td>\n",
       "      <td>0</td>\n",
       "      <td>1</td>\n",
       "      <td>1</td>\n",
       "      <td>1</td>\n",
       "      <td>1</td>\n",
       "    </tr>\n",
       "  </tbody>\n",
       "</table>\n",
       "<p>5 rows × 41 columns</p>\n",
       "</div>"
      ],
      "text/plain": [
       "roll call  515  516  517  518  519  520  521  522  523  524  ...  546  547  \\\n",
       "member                                                       ...             \n",
       "A000055      1    0    0    0    1    1    0    1    1    1  ...    0    0   \n",
       "A000367      0    0    0    0    0    0    0    0    0    0  ...    0    1   \n",
       "A000369      1    1    0    0    1    1    0    1    1    1  ...    0    0   \n",
       "A000370      1    1    1    1    1    0    1    0    0    0  ...    1    1   \n",
       "A000371      1    1    1    1    1    0    1    0    0    0  ...    1    1   \n",
       "\n",
       "roll call  548  549  550  551  552  553  554  555  \n",
       "member                                             \n",
       "A000055      1    0    0    1    0    0    1    0  \n",
       "A000367      1    1    1    0    1    1    0    1  \n",
       "A000369      1    0    0    1    0    0    1    0  \n",
       "A000370      1    1    1    0    1    1    1    1  \n",
       "A000371      1    1    1    0    1    1    1    1  \n",
       "\n",
       "[5 rows x 41 columns]"
      ]
     },
     "execution_count": 5,
     "metadata": {},
     "output_type": "execute_result"
    }
   ],
   "source": [
    "def was_yes(s):\n",
    "    return 1 if s.iloc[0] == \"Yes\" else 0\n",
    "\n",
    "vote_pivot = votes.pivot_table(index='member',\n",
    "                                columns='roll call',\n",
    "                                values='vote',\n",
    "                                aggfunc=was_yes,\n",
    "                                fill_value=0)\n",
    "print(vote_pivot.shape)\n",
    "vote_pivot.head()"
   ]
  },
  {
   "cell_type": "markdown",
   "metadata": {},
   "source": [
    "**Solution**: We pivot the table to group each legislator and their voting pattern across every (roll call) vote in this month. We mark 1 if the legislator voted Yes (yea), and 0 otherwise (No/nay, no vote, speaker, etc.). This is done using the Pandas function `pivot_table()` with a custom aggregation function which simply takes the first entry of a Series and maps this to 0 or to 1 depending on whether the voting behaviour was \"Yes\" or \"No\""
   ]
  },
  {
   "cell_type": "markdown",
   "metadata": {
    "id": "4RESOCyLepMv"
   },
   "source": [
    "**How do we analyze this data?**\n",
    "\n",
    "While we could consider loading information about the legislator, such as their party, and see how this relates to their voting pattern, it turns out that we can do a lot with PCA to cluster legislators by how they vote."
   ]
  },
  {
   "cell_type": "markdown",
   "metadata": {
    "id": "UQ99pQI2epMv"
   },
   "source": [
    "## Task 2\n",
    "Center the data by subtracting the mean from each feature."
   ]
  },
  {
   "cell_type": "code",
   "execution_count": 6,
   "metadata": {
    "colab": {
     "base_uri": "https://localhost:8080/",
     "height": 300
    },
    "id": "_WHrYWuiepMv",
    "outputId": "b1cfbc79-7d71-4a41-d767-5134f31ecc75"
   },
   "outputs": [
    {
     "data": {
      "text/html": [
       "<div>\n",
       "<style scoped>\n",
       "    .dataframe tbody tr th:only-of-type {\n",
       "        vertical-align: middle;\n",
       "    }\n",
       "\n",
       "    .dataframe tbody tr th {\n",
       "        vertical-align: top;\n",
       "    }\n",
       "\n",
       "    .dataframe thead th {\n",
       "        text-align: right;\n",
       "    }\n",
       "</style>\n",
       "<table border=\"1\" class=\"dataframe\">\n",
       "  <thead>\n",
       "    <tr style=\"text-align: right;\">\n",
       "      <th>roll call</th>\n",
       "      <th>515</th>\n",
       "      <th>516</th>\n",
       "      <th>517</th>\n",
       "      <th>518</th>\n",
       "      <th>519</th>\n",
       "      <th>520</th>\n",
       "      <th>521</th>\n",
       "      <th>522</th>\n",
       "      <th>523</th>\n",
       "      <th>524</th>\n",
       "      <th>...</th>\n",
       "      <th>546</th>\n",
       "      <th>547</th>\n",
       "      <th>548</th>\n",
       "      <th>549</th>\n",
       "      <th>550</th>\n",
       "      <th>551</th>\n",
       "      <th>552</th>\n",
       "      <th>553</th>\n",
       "      <th>554</th>\n",
       "      <th>555</th>\n",
       "    </tr>\n",
       "    <tr>\n",
       "      <th>member</th>\n",
       "      <th></th>\n",
       "      <th></th>\n",
       "      <th></th>\n",
       "      <th></th>\n",
       "      <th></th>\n",
       "      <th></th>\n",
       "      <th></th>\n",
       "      <th></th>\n",
       "      <th></th>\n",
       "      <th></th>\n",
       "      <th></th>\n",
       "      <th></th>\n",
       "      <th></th>\n",
       "      <th></th>\n",
       "      <th></th>\n",
       "      <th></th>\n",
       "      <th></th>\n",
       "      <th></th>\n",
       "      <th></th>\n",
       "      <th></th>\n",
       "      <th></th>\n",
       "    </tr>\n",
       "  </thead>\n",
       "  <tbody>\n",
       "    <tr>\n",
       "      <th>A000055</th>\n",
       "      <td>0.129252</td>\n",
       "      <td>-0.668934</td>\n",
       "      <td>-0.526077</td>\n",
       "      <td>-0.52381</td>\n",
       "      <td>0.049887</td>\n",
       "      <td>0.587302</td>\n",
       "      <td>-0.562358</td>\n",
       "      <td>0.634921</td>\n",
       "      <td>0.594104</td>\n",
       "      <td>0.560091</td>\n",
       "      <td>...</td>\n",
       "      <td>-0.521542</td>\n",
       "      <td>-0.526077</td>\n",
       "      <td>0.045351</td>\n",
       "      <td>-0.521542</td>\n",
       "      <td>-0.519274</td>\n",
       "      <td>0.54195</td>\n",
       "      <td>-0.521542</td>\n",
       "      <td>-0.535147</td>\n",
       "      <td>0.086168</td>\n",
       "      <td>-0.503401</td>\n",
       "    </tr>\n",
       "    <tr>\n",
       "      <th>A000367</th>\n",
       "      <td>-0.870748</td>\n",
       "      <td>-0.668934</td>\n",
       "      <td>-0.526077</td>\n",
       "      <td>-0.52381</td>\n",
       "      <td>-0.950113</td>\n",
       "      <td>-0.412698</td>\n",
       "      <td>-0.562358</td>\n",
       "      <td>-0.365079</td>\n",
       "      <td>-0.405896</td>\n",
       "      <td>-0.439909</td>\n",
       "      <td>...</td>\n",
       "      <td>-0.521542</td>\n",
       "      <td>0.473923</td>\n",
       "      <td>0.045351</td>\n",
       "      <td>0.478458</td>\n",
       "      <td>0.480726</td>\n",
       "      <td>-0.45805</td>\n",
       "      <td>0.478458</td>\n",
       "      <td>0.464853</td>\n",
       "      <td>-0.913832</td>\n",
       "      <td>0.496599</td>\n",
       "    </tr>\n",
       "    <tr>\n",
       "      <th>A000369</th>\n",
       "      <td>0.129252</td>\n",
       "      <td>0.331066</td>\n",
       "      <td>-0.526077</td>\n",
       "      <td>-0.52381</td>\n",
       "      <td>0.049887</td>\n",
       "      <td>0.587302</td>\n",
       "      <td>-0.562358</td>\n",
       "      <td>0.634921</td>\n",
       "      <td>0.594104</td>\n",
       "      <td>0.560091</td>\n",
       "      <td>...</td>\n",
       "      <td>-0.521542</td>\n",
       "      <td>-0.526077</td>\n",
       "      <td>0.045351</td>\n",
       "      <td>-0.521542</td>\n",
       "      <td>-0.519274</td>\n",
       "      <td>0.54195</td>\n",
       "      <td>-0.521542</td>\n",
       "      <td>-0.535147</td>\n",
       "      <td>0.086168</td>\n",
       "      <td>-0.503401</td>\n",
       "    </tr>\n",
       "    <tr>\n",
       "      <th>A000370</th>\n",
       "      <td>0.129252</td>\n",
       "      <td>0.331066</td>\n",
       "      <td>0.473923</td>\n",
       "      <td>0.47619</td>\n",
       "      <td>0.049887</td>\n",
       "      <td>-0.412698</td>\n",
       "      <td>0.437642</td>\n",
       "      <td>-0.365079</td>\n",
       "      <td>-0.405896</td>\n",
       "      <td>-0.439909</td>\n",
       "      <td>...</td>\n",
       "      <td>0.478458</td>\n",
       "      <td>0.473923</td>\n",
       "      <td>0.045351</td>\n",
       "      <td>0.478458</td>\n",
       "      <td>0.480726</td>\n",
       "      <td>-0.45805</td>\n",
       "      <td>0.478458</td>\n",
       "      <td>0.464853</td>\n",
       "      <td>0.086168</td>\n",
       "      <td>0.496599</td>\n",
       "    </tr>\n",
       "    <tr>\n",
       "      <th>A000371</th>\n",
       "      <td>0.129252</td>\n",
       "      <td>0.331066</td>\n",
       "      <td>0.473923</td>\n",
       "      <td>0.47619</td>\n",
       "      <td>0.049887</td>\n",
       "      <td>-0.412698</td>\n",
       "      <td>0.437642</td>\n",
       "      <td>-0.365079</td>\n",
       "      <td>-0.405896</td>\n",
       "      <td>-0.439909</td>\n",
       "      <td>...</td>\n",
       "      <td>0.478458</td>\n",
       "      <td>0.473923</td>\n",
       "      <td>0.045351</td>\n",
       "      <td>0.478458</td>\n",
       "      <td>0.480726</td>\n",
       "      <td>-0.45805</td>\n",
       "      <td>0.478458</td>\n",
       "      <td>0.464853</td>\n",
       "      <td>0.086168</td>\n",
       "      <td>0.496599</td>\n",
       "    </tr>\n",
       "  </tbody>\n",
       "</table>\n",
       "<p>5 rows × 41 columns</p>\n",
       "</div>"
      ],
      "text/plain": [
       "roll call       515       516       517      518       519       520  \\\n",
       "member                                                                 \n",
       "A000055    0.129252 -0.668934 -0.526077 -0.52381  0.049887  0.587302   \n",
       "A000367   -0.870748 -0.668934 -0.526077 -0.52381 -0.950113 -0.412698   \n",
       "A000369    0.129252  0.331066 -0.526077 -0.52381  0.049887  0.587302   \n",
       "A000370    0.129252  0.331066  0.473923  0.47619  0.049887 -0.412698   \n",
       "A000371    0.129252  0.331066  0.473923  0.47619  0.049887 -0.412698   \n",
       "\n",
       "roll call       521       522       523       524  ...       546       547  \\\n",
       "member                                             ...                       \n",
       "A000055   -0.562358  0.634921  0.594104  0.560091  ... -0.521542 -0.526077   \n",
       "A000367   -0.562358 -0.365079 -0.405896 -0.439909  ... -0.521542  0.473923   \n",
       "A000369   -0.562358  0.634921  0.594104  0.560091  ... -0.521542 -0.526077   \n",
       "A000370    0.437642 -0.365079 -0.405896 -0.439909  ...  0.478458  0.473923   \n",
       "A000371    0.437642 -0.365079 -0.405896 -0.439909  ...  0.478458  0.473923   \n",
       "\n",
       "roll call       548       549       550      551       552       553  \\\n",
       "member                                                                 \n",
       "A000055    0.045351 -0.521542 -0.519274  0.54195 -0.521542 -0.535147   \n",
       "A000367    0.045351  0.478458  0.480726 -0.45805  0.478458  0.464853   \n",
       "A000369    0.045351 -0.521542 -0.519274  0.54195 -0.521542 -0.535147   \n",
       "A000370    0.045351  0.478458  0.480726 -0.45805  0.478458  0.464853   \n",
       "A000371    0.045351  0.478458  0.480726 -0.45805  0.478458  0.464853   \n",
       "\n",
       "roll call       554       555  \n",
       "member                         \n",
       "A000055    0.086168 -0.503401  \n",
       "A000367   -0.913832  0.496599  \n",
       "A000369    0.086168 -0.503401  \n",
       "A000370    0.086168  0.496599  \n",
       "A000371    0.086168  0.496599  \n",
       "\n",
       "[5 rows x 41 columns]"
      ]
     },
     "execution_count": 6,
     "metadata": {},
     "output_type": "execute_result"
    }
   ],
   "source": [
    "vote_pivot_centered = vote_pivot - np.mean(vote_pivot, axis = 0)\n",
    "vote_pivot_centered.head(5)"
   ]
  },
  {
   "cell_type": "markdown",
   "metadata": {},
   "source": [
    "## Task 3\n",
    "Use the function `np.linalg.svd()` (see [documentation](https://numpy.org/doc/stable/reference/generated/numpy.linalg.svd.html)) to compute the singular value decomposition of the centered data matrix."
   ]
  },
  {
   "cell_type": "code",
   "execution_count": 7,
   "metadata": {
    "id": "vcMV-B7lFJmY"
   },
   "outputs": [],
   "source": [
    "u, s, vt = np.linalg.svd(vote_pivot_centered, full_matrices = False)"
   ]
  },
  {
   "cell_type": "markdown",
   "metadata": {},
   "source": [
    "## Task 4\n",
    "If the first two singular values are large and all others are small, then two dimensions are enough to describe most of what distinguishes one observation from another. If not, then a PCA scatter plot is omitting lots of information.\n",
    "\n",
    "An equivalent way to evaluate this is to determine the **variance ratios**, i.e., the fraction of the variance each PC contributes to total variance.\n",
    "\n",
    "Compute the variance ratios for the centered Congressional Vote Data."
   ]
  },
  {
   "cell_type": "code",
   "execution_count": 8,
   "metadata": {},
   "outputs": [
    {
     "data": {
      "text/plain": [
       "array([0.8 , 0.05, 0.02, 0.01, 0.01, 0.01, 0.01, 0.01, 0.01, 0.01, 0.01,\n",
       "       0.01, 0.  , 0.  , 0.  , 0.  , 0.  , 0.  , 0.  , 0.  , 0.  , 0.  ,\n",
       "       0.  , 0.  , 0.  , 0.  , 0.  , 0.  , 0.  , 0.  , 0.  , 0.  , 0.  ,\n",
       "       0.  , 0.  , 0.  , 0.  , 0.  , 0.  , 0.  , 0.  ])"
      ]
     },
     "execution_count": 8,
     "metadata": {},
     "output_type": "execute_result"
    }
   ],
   "source": [
    "np.round(s**2 / sum(s**2), 2)"
   ]
  },
  {
   "cell_type": "markdown",
   "metadata": {},
   "source": [
    "## Task 5\n",
    "A [**scree plot**](https://en.wikipedia.org/wiki/Scree_plot) (and where its \"elbow\" is located) is a visual way of checking the distribution of variance. Technically, it simply consists of a [line plot](https://matplotlib.org/stable/api/_as_gen/matplotlib.pyplot.plot.html) of the distribution of variance of the dataset.\n",
    "\n",
    "Create a scree plot to visualize how much of the variance is explained by the first principal components of our dataset."
   ]
  },
  {
   "cell_type": "code",
   "execution_count": 9,
   "metadata": {},
   "outputs": [
    {
     "data": {
      "image/png": "[encoded data removed]",
      "text/plain": [
       "<Figure size 600x600 with 1 Axes>"
      ]
     },
     "metadata": {},
     "output_type": "display_data"
    }
   ],
   "source": [
    "plt.plot(s**2, marker='.'); # square of singular values"
   ]
  },
  {
   "cell_type": "markdown",
   "metadata": {
    "id": "VQzpGJXbHxL6"
   },
   "source": [
    "## Task 6"
   ]
  },
  {
   "cell_type": "markdown",
   "metadata": {
    "id": "kAdRckAYepMy"
   },
   "source": [
    "Project the centered data to PC1 and PC2 and create a scatterplot of the projected data in $\\mathbb{R}^2$."
   ]
  },
  {
   "cell_type": "code",
   "execution_count": 10,
   "metadata": {
    "id": "Z9pJ23SCILOP"
   },
   "outputs": [],
   "source": [
    "pcs = u * s\n",
    "projection = pcs[:,:2]"
   ]
  },
  {
   "cell_type": "code",
   "execution_count": 12,
   "metadata": {
    "colab": {
     "base_uri": "https://localhost:8080/"
    },
    "id": "_2frfuWxJMV8",
    "outputId": "4d847552-968d-41ce-b8cb-d3ba86c349c4"
   },
   "outputs": [
    {
     "data": {
      "text/plain": [
       "(441, 2)"
      ]
     },
     "execution_count": 12,
     "metadata": {},
     "output_type": "execute_result"
    }
   ],
   "source": [
    "projection.shape"
   ]
  },
  {
   "cell_type": "code",
   "execution_count": 13,
   "metadata": {
    "colab": {
     "base_uri": "https://localhost:8080/",
     "height": 609
    },
    "id": "Ys6G75CbepMy",
    "outputId": "9ca9f6f6-a38b-4991-a338-855da7f118bd"
   },
   "outputs": [
    {
     "data": {
      "image/png": "[encoded data removed]",
      "text/plain": [
       "<Figure size 600x600 with 1 Axes>"
      ]
     },
     "metadata": {},
     "output_type": "display_data"
    }
   ],
   "source": [
    "sns.scatterplot(x=projection[:,0], y=projection[:,1]);\n",
    "plt.xlabel(\"PC1\");\n",
    "plt.ylabel(\"PC2\");"
   ]
  },
  {
   "cell_type": "markdown",
   "metadata": {
    "id": "DfrSsMeeepMy"
   },
   "source": [
    "Baesd on the plot above, it looks like there are two clusters of datapoints. What do you think this corresponds to?"
   ]
  },
  {
   "cell_type": "markdown",
   "metadata": {},
   "source": [
    "## Task 7\n",
    "Use [`sklearn.decomposition.PCA()`](https://scikit-learn.org/stable/modules/generated/sklearn.decomposition.PCA.html) to compute the PCA of the original congressional vote dataset and to project the dataset to the first two principal components. Then create the same scatterplot as in Task 6."
   ]
  },
  {
   "cell_type": "code",
   "execution_count": 14,
   "metadata": {},
   "outputs": [],
   "source": [
    "from sklearn.decomposition import PCA\n",
    "pca = PCA(n_components=2)\n",
    "projection2 = pca.fit_transform(vote_pivot_centered)"
   ]
  },
  {
   "cell_type": "code",
   "execution_count": 15,
   "metadata": {},
   "outputs": [
    {
     "data": {
      "image/png": "[encoded data removed]",
      "text/plain": [
       "<Figure size 600x600 with 1 Axes>"
      ]
     },
     "metadata": {},
     "output_type": "display_data"
    }
   ],
   "source": [
    "sns.scatterplot(x=projection2[:,0], y=projection2[:,1]);\n",
    "plt.xlabel(\"PC1\");\n",
    "plt.ylabel(\"PC2\");"
   ]
  },
  {
   "cell_type": "markdown",
   "metadata": {
    "id": "c7v_MRcSepMy"
   },
   "source": [
    "## Incorporating Member Information"
   ]
  },
  {
   "cell_type": "markdown",
   "metadata": {
    "id": "SYsBENysepMy"
   },
   "source": [
    "In the following we load in more member information, from https://github.com/unitedstates/congress-legislators. This includes each legislator's political party."
   ]
  },
  {
   "cell_type": "code",
   "execution_count": 16,
   "metadata": {
    "colab": {
     "base_uri": "https://localhost:8080/",
     "height": 436
    },
    "id": "VoMjtdjMepMz",
    "outputId": "95766d13-7f0f-40c9-a249-052df5f01be0"
   },
   "outputs": [
    {
     "data": {
      "text/html": [
       "<div>\n",
       "<style scoped>\n",
       "    .dataframe tbody tr th:only-of-type {\n",
       "        vertical-align: middle;\n",
       "    }\n",
       "\n",
       "    .dataframe tbody tr th {\n",
       "        vertical-align: top;\n",
       "    }\n",
       "\n",
       "    .dataframe thead th {\n",
       "        text-align: right;\n",
       "    }\n",
       "</style>\n",
       "<table border=\"1\" class=\"dataframe\">\n",
       "  <thead>\n",
       "    <tr style=\"text-align: right;\">\n",
       "      <th></th>\n",
       "      <th>leg_id</th>\n",
       "      <th>first</th>\n",
       "      <th>last</th>\n",
       "      <th>gender</th>\n",
       "      <th>state</th>\n",
       "      <th>chamber</th>\n",
       "      <th>party</th>\n",
       "      <th>birthday</th>\n",
       "    </tr>\n",
       "  </thead>\n",
       "  <tbody>\n",
       "    <tr>\n",
       "      <th>0</th>\n",
       "      <td>B000944</td>\n",
       "      <td>Sherrod</td>\n",
       "      <td>Brown</td>\n",
       "      <td>M</td>\n",
       "      <td>OH</td>\n",
       "      <td>sen</td>\n",
       "      <td>Democrat</td>\n",
       "      <td>1952-11-09</td>\n",
       "    </tr>\n",
       "    <tr>\n",
       "      <th>1</th>\n",
       "      <td>C000127</td>\n",
       "      <td>Maria</td>\n",
       "      <td>Cantwell</td>\n",
       "      <td>F</td>\n",
       "      <td>WA</td>\n",
       "      <td>sen</td>\n",
       "      <td>Democrat</td>\n",
       "      <td>1958-10-13</td>\n",
       "    </tr>\n",
       "    <tr>\n",
       "      <th>2</th>\n",
       "      <td>C000141</td>\n",
       "      <td>Benjamin</td>\n",
       "      <td>Cardin</td>\n",
       "      <td>M</td>\n",
       "      <td>MD</td>\n",
       "      <td>sen</td>\n",
       "      <td>Democrat</td>\n",
       "      <td>1943-10-05</td>\n",
       "    </tr>\n",
       "    <tr>\n",
       "      <th>3</th>\n",
       "      <td>C000174</td>\n",
       "      <td>Thomas</td>\n",
       "      <td>Carper</td>\n",
       "      <td>M</td>\n",
       "      <td>DE</td>\n",
       "      <td>sen</td>\n",
       "      <td>Democrat</td>\n",
       "      <td>1947-01-23</td>\n",
       "    </tr>\n",
       "    <tr>\n",
       "      <th>4</th>\n",
       "      <td>C001070</td>\n",
       "      <td>Robert</td>\n",
       "      <td>Casey</td>\n",
       "      <td>M</td>\n",
       "      <td>PA</td>\n",
       "      <td>sen</td>\n",
       "      <td>Democrat</td>\n",
       "      <td>1960-04-13</td>\n",
       "    </tr>\n",
       "    <tr>\n",
       "      <th>...</th>\n",
       "      <td>...</td>\n",
       "      <td>...</td>\n",
       "      <td>...</td>\n",
       "      <td>...</td>\n",
       "      <td>...</td>\n",
       "      <td>...</td>\n",
       "      <td>...</td>\n",
       "      <td>...</td>\n",
       "    </tr>\n",
       "    <tr>\n",
       "      <th>534</th>\n",
       "      <td>M001197</td>\n",
       "      <td>Martha</td>\n",
       "      <td>McSally</td>\n",
       "      <td>F</td>\n",
       "      <td>AZ</td>\n",
       "      <td>sen</td>\n",
       "      <td>Republican</td>\n",
       "      <td>1966-03-22</td>\n",
       "    </tr>\n",
       "    <tr>\n",
       "      <th>535</th>\n",
       "      <td>G000592</td>\n",
       "      <td>Jared</td>\n",
       "      <td>Golden</td>\n",
       "      <td>M</td>\n",
       "      <td>ME</td>\n",
       "      <td>rep</td>\n",
       "      <td>Democrat</td>\n",
       "      <td>1982-07-25</td>\n",
       "    </tr>\n",
       "    <tr>\n",
       "      <th>536</th>\n",
       "      <td>K000395</td>\n",
       "      <td>Fred</td>\n",
       "      <td>Keller</td>\n",
       "      <td>M</td>\n",
       "      <td>PA</td>\n",
       "      <td>rep</td>\n",
       "      <td>Republican</td>\n",
       "      <td>1965-10-23</td>\n",
       "    </tr>\n",
       "    <tr>\n",
       "      <th>537</th>\n",
       "      <td>B001311</td>\n",
       "      <td>Dan</td>\n",
       "      <td>Bishop</td>\n",
       "      <td>M</td>\n",
       "      <td>NC</td>\n",
       "      <td>rep</td>\n",
       "      <td>Republican</td>\n",
       "      <td>1964-07-01</td>\n",
       "    </tr>\n",
       "    <tr>\n",
       "      <th>538</th>\n",
       "      <td>M001210</td>\n",
       "      <td>Gregory</td>\n",
       "      <td>Murphy</td>\n",
       "      <td>M</td>\n",
       "      <td>NC</td>\n",
       "      <td>rep</td>\n",
       "      <td>Republican</td>\n",
       "      <td>1963-03-05</td>\n",
       "    </tr>\n",
       "  </tbody>\n",
       "</table>\n",
       "<p>539 rows × 8 columns</p>\n",
       "</div>"
      ],
      "text/plain": [
       "      leg_id     first      last gender state chamber       party   birthday\n",
       "0    B000944   Sherrod     Brown      M    OH     sen    Democrat 1952-11-09\n",
       "1    C000127     Maria  Cantwell      F    WA     sen    Democrat 1958-10-13\n",
       "2    C000141  Benjamin    Cardin      M    MD     sen    Democrat 1943-10-05\n",
       "3    C000174    Thomas    Carper      M    DE     sen    Democrat 1947-01-23\n",
       "4    C001070    Robert     Casey      M    PA     sen    Democrat 1960-04-13\n",
       "..       ...       ...       ...    ...   ...     ...         ...        ...\n",
       "534  M001197    Martha   McSally      F    AZ     sen  Republican 1966-03-22\n",
       "535  G000592     Jared    Golden      M    ME     rep    Democrat 1982-07-25\n",
       "536  K000395      Fred    Keller      M    PA     rep  Republican 1965-10-23\n",
       "537  B001311       Dan    Bishop      M    NC     rep  Republican 1964-07-01\n",
       "538  M001210   Gregory    Murphy      M    NC     rep  Republican 1963-03-05\n",
       "\n",
       "[539 rows x 8 columns]"
      ]
     },
     "execution_count": 16,
     "metadata": {},
     "output_type": "execute_result"
    }
   ],
   "source": [
    "legislators_url = 'https://raw.githubusercontent.com/ulischlickewei/Mathe2-DS/main/legislators-current.yaml'\n",
    "import requests\n",
    "r = requests.get(legislators_url)\n",
    "legislators_data = yaml.safe_load(r.content)\n",
    "\n",
    "def to_date(s):\n",
    "    return datetime.strptime(s, '%Y-%m-%d')\n",
    "\n",
    "legs = pd.DataFrame(\n",
    "    columns=['leg_id', 'first', 'last', 'gender', 'state', 'chamber', 'party', 'birthday'],\n",
    "    data=[[x['id']['bioguide'],\n",
    "           x['name']['first'],\n",
    "           x['name']['last'],\n",
    "           x['bio']['gender'],\n",
    "           x['terms'][-1]['state'],\n",
    "           x['terms'][-1]['type'],\n",
    "           x['terms'][-1]['party'],\n",
    "           to_date(x['bio']['birthday'])] for x in legislators_data])\n",
    "\n",
    "legs.set_index(\"leg_id\")\n",
    "legs.sort_index()"
   ]
  },
  {
   "cell_type": "markdown",
   "metadata": {
    "id": "xZiI7bQVepMz"
   },
   "source": [
    "Let's check out how party affiliations relate to the PC1, PC2 transformation from earlier:"
   ]
  },
  {
   "cell_type": "code",
   "execution_count": 17,
   "metadata": {},
   "outputs": [
    {
     "data": {
      "text/plain": [
       "party\n",
       "Democrat    231\n",
       "Name: count, dtype: int64"
      ]
     },
     "execution_count": 17,
     "metadata": {},
     "output_type": "execute_result"
    }
   ],
   "source": [
    "vote2d = pd.DataFrame({\n",
    "    'member': vote_pivot.index,\n",
    "    'pc1': pcs[:, 0],\n",
    "    'pc2': pcs[:, 1]\n",
    "}).merge(legs, left_on='member', right_on='leg_id')\n",
    "\n",
    "vote2d[vote2d['pc1'] < 0]['party'].value_counts()"
   ]
  },
  {
   "cell_type": "markdown",
   "metadata": {
    "id": "kf7kXnEkepM0"
   },
   "source": [
    "## Task 8\n",
    "Adapt your scatterplot from above by incorporating the party labels as colors for the projected dataset. Use the `hue` option for this."
   ]
  },
  {
   "cell_type": "code",
   "execution_count": 18,
   "metadata": {
    "colab": {
     "base_uri": "https://localhost:8080/",
     "height": 609
    },
    "id": "R_HBU7JvepM0",
    "outputId": "e00bd654-3e64-43e7-de1c-3000373b73e5"
   },
   "outputs": [
    {
     "data": {
      "image/png": "[encoded data removed]",
      "text/plain": [
       "<Figure size 600x600 with 1 Axes>"
      ]
     },
     "metadata": {},
     "output_type": "display_data"
    }
   ],
   "source": [
    "cp = sns.color_palette()\n",
    "party_cp = [cp[i] for i in [0, 3, 1]]\n",
    "party_hue = [\"Democrat\", \"Republican\", \"Independent\"]\n",
    "\n",
    "sns.scatterplot(x=\"pc1\", y=\"pc2\",\n",
    "                hue=\"party\", palette=party_cp,  hue_order=party_hue,\n",
    "                data = vote2d);"
   ]
  }
 ],
 "metadata": {
  "colab": {
   "include_colab_link": true,
   "provenance": []
  },
  "kernelspec": {
   "display_name": "Python 3 (ipykernel)",
   "language": "python",
   "name": "python3"
  },
  "language_info": {
   "codemirror_mode": {
    "name": "ipython",
    "version": 3
   },
   "file_extension": ".py",
   "mimetype": "text/x-python",
   "name": "python",
   "nbconvert_exporter": "python",
   "pygments_lexer": "ipython3",
   "version": "3.9.7"
  }
 },
 "nbformat": 4,
 "nbformat_minor": 4
}
