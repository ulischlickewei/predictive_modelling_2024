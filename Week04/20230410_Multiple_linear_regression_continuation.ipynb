{
  "nbformat": 4,
  "nbformat_minor": 0,
  "metadata": {
    "colab": {
      "provenance": [],
      "toc_visible": true,
      "authorship_tag": "ABX9TyP6YCcka7bZpm0ECnhACcmG",
      "include_colab_link": true
    },
    "kernelspec": {
      "name": "python3",
      "display_name": "Python 3"
    },
    "language_info": {
      "name": "python"
    }
  },
  "cells": [
    {
      "cell_type": "markdown",
      "metadata": {
        "id": "view-in-github",
        "colab_type": "text"
      },
      "source": [
        "<a href=\"https://colab.research.google.com/github/ulischlickewei/predictive_modelling_2024/blob/main/Week04/20230410_Multiple_linear_regression_continuation.ipynb\" target=\"_parent\"><img src=\"https://colab.research.google.com/assets/colab-badge.svg\" alt=\"Open In Colab\"/></a>"
      ]
    },
    {
      "cell_type": "markdown",
      "source": [
        "# Preparing the environment"
      ],
      "metadata": {
        "id": "WkrWKXfF5AL3"
      }
    },
    {
      "cell_type": "code",
      "source": [
        "# install ISLP package\n",
        "# uncomment the following line if you run this on Google Colab\n",
        "# !pip install ISLP"
      ],
      "metadata": {
        "id": "RysKgZS8VnFG"
      },
      "execution_count": null,
      "outputs": []
    },
    {
      "cell_type": "code",
      "execution_count": null,
      "metadata": {
        "id": "UO5wcrqe4671"
      },
      "outputs": [],
      "source": [
        "# import all needed packages\n",
        "import numpy as np\n",
        "import pandas as pd\n",
        "\n",
        "import statsmodels.api as sm\n",
        "\n",
        "import matplotlib.pyplot as plt\n",
        "import seaborn as sns\n",
        "\n",
        "from statsmodels.stats.outliers_influence \\\n",
        "     import variance_inflation_factor as VIF\n",
        "from statsmodels.stats.anova import anova_lm\n",
        "\n",
        "from ISLP import load_data\n",
        "from ISLP.models import (ModelSpec as MS,\n",
        "                         summarize,\n",
        "                         poly)"
      ]
    },
    {
      "cell_type": "markdown",
      "source": [
        "# A) Case study\n",
        "(see textbook Exercise 3.7.9)\n",
        "\n",
        "*Information on the dataset*\n",
        "\n",
        "Gas mileage, horsepower, and other information for 392 vehicles.\n",
        "\n",
        "A data frame with 392 observations on the following 9 variables.\n",
        "\n",
        "- `mpg`: miles per gallon\n",
        "- `cylinders`: Number of cylinders between 4 and 8\n",
        "- `displacement`: Engine displacement (cu. inches)\n",
        "- `horsepower`: Engine horsepower\n",
        "- `weight`: Vehicle weight (lbs.)\n",
        "- `acceleration`: Time to accelerate from 0 to 60 mph (sec.)\n",
        "- `year`: Model year (modulo 100)\n",
        "- `origin`: Origin of car (1. American, 2. European, 3. Japanese)\n",
        "- `name`: Vehicle name"
      ],
      "metadata": {
        "id": "PmQ-fEimxClo"
      }
    },
    {
      "cell_type": "code",
      "source": [
        "# run this cell to load the data\n",
        "Auto = load_data('Auto')\n",
        "Auto"
      ],
      "metadata": {
        "id": "GOzJ-i9CxFKi"
      },
      "execution_count": null,
      "outputs": []
    },
    {
      "cell_type": "markdown",
      "source": [
        "## Task A.1\n",
        "Produce a scatterplot matrix which includes all of the variables in the data set."
      ],
      "metadata": {
        "id": "rxKG_NJg-qC6"
      }
    },
    {
      "cell_type": "code",
      "source": [
        "fig, ax = plt.subplots(figsize=(15,15))\n",
        "pd.plotting.scatter_matrix(Auto, ax=ax);"
      ],
      "metadata": {
        "id": "1UYc669H_Ugq"
      },
      "execution_count": null,
      "outputs": []
    },
    {
      "cell_type": "markdown",
      "source": [
        "We observe that all variables seem to be related to `mpg`. This indicates that it might be a good starting point to build a regression model with all possible predictor variables."
      ],
      "metadata": {
        "id": "V43Cz37gIjDz"
      }
    },
    {
      "cell_type": "markdown",
      "source": [
        "## Task A.2\n",
        "Compute the matrix of correlations between the variables using the `DataFrame.corr()` method."
      ],
      "metadata": {
        "id": "vAazknGd_jPs"
      }
    },
    {
      "cell_type": "code",
      "source": [
        "corrmat = Auto.corr()\n",
        "corrmat"
      ],
      "metadata": {
        "id": "Ufno8tZM_lQX"
      },
      "execution_count": null,
      "outputs": []
    },
    {
      "cell_type": "code",
      "source": [
        "# Additional possibility: visualization of correlation matrix using a heatmap\n",
        "import seaborn as sns\n",
        "fig, ax = plt.subplots(figsize=(12,8))\n",
        "sns.heatmap(corrmat)"
      ],
      "metadata": {
        "id": "ZB4FX0b2GZgI"
      },
      "execution_count": null,
      "outputs": []
    },
    {
      "cell_type": "markdown",
      "source": [
        "We observe that several of our potential predictor variables are highly correlated, e.g. displacement and weight, displacement and cylinders, displacement and horsepower. It might be a good idea to investigate this in more detail later."
      ],
      "metadata": {
        "id": "bEZkaMLjIyw3"
      }
    },
    {
      "cell_type": "markdown",
      "source": [
        "## Task A.3\n",
        "Use the `sm.OLS()` function to perform a multiple linear regression with `mpg` as the response and all other variables except `name` as the predictors. Use the `summarize()` function to print the results. Comment on the output. For instance:\n",
        "\n",
        "1. Is there a relationship between the predictors and the response? Use the `summary()` function from statsmodels to answer this question.\n",
        "2. Which predictors appear to have a statistically significant relationship to the response?\n",
        "3. What does the coefficient for the `year` variable suggest?"
      ],
      "metadata": {
        "id": "TSMg6KEJ_vDy"
      }
    },
    {
      "cell_type": "code",
      "source": [
        "# change dtype of origin column to make\n",
        "# sure that ModelSpec recognizes origin as\n",
        "# qualitative variable\n",
        "Auto_new = Auto.astype({'origin' : 'category'})"
      ],
      "metadata": {
        "id": "meDcRAddROlh"
      },
      "execution_count": null,
      "outputs": []
    },
    {
      "cell_type": "code",
      "source": [
        "Auto.dtypes"
      ],
      "metadata": {
        "id": "od2KTB01RekO"
      },
      "execution_count": null,
      "outputs": []
    },
    {
      "cell_type": "code",
      "source": [
        "Auto_new.dtypes"
      ],
      "metadata": {
        "id": "u9OmBeDURf9J"
      },
      "execution_count": null,
      "outputs": []
    },
    {
      "cell_type": "code",
      "source": [
        "# create design matrix\n",
        "predictors = Auto_new.columns.drop(['name','mpg'])\n",
        "design = MS(predictors).fit(Auto_new)"
      ],
      "metadata": {
        "id": "Tdvc7Jqf_w9q"
      },
      "execution_count": null,
      "outputs": []
    },
    {
      "cell_type": "code",
      "source": [
        "X = design.transform(Auto_new)\n",
        "X"
      ],
      "metadata": {
        "id": "gslfGXT-OnaB"
      },
      "execution_count": null,
      "outputs": []
    },
    {
      "cell_type": "code",
      "source": [
        "X_manual = Auto.drop(columns=['mpg','name'])\n",
        "X_manual['intercept'] = np.ones(Auto.shape[0])\n",
        "X_manual"
      ],
      "metadata": {
        "id": "jEOfKLHyPUQZ"
      },
      "execution_count": null,
      "outputs": []
    },
    {
      "cell_type": "code",
      "source": [
        "X_manual.dtypes"
      ],
      "metadata": {
        "id": "z4EJs1VLQz_j"
      },
      "execution_count": null,
      "outputs": []
    },
    {
      "cell_type": "code",
      "source": [
        "y = Auto.mpg\n",
        "model = sm.OLS(y,X)\n",
        "results=model.fit()\n",
        "summarize(results)"
      ],
      "metadata": {
        "id": "KleysTCXM379"
      },
      "execution_count": null,
      "outputs": []
    },
    {
      "cell_type": "markdown",
      "source": [
        "*Please document your observations here*."
      ],
      "metadata": {
        "id": "paAjcY_-ASC8"
      }
    },
    {
      "cell_type": "markdown",
      "source": [
        "## Task A.4\n",
        "Produce some of diagnostic plots of the linear regression fit as described in the lab. Comment on any problems you see with the fit. Do the residual plots suggest any unusually large outliers? Does the leverage plot identify any observations with unusually high leverage?"
      ],
      "metadata": {
        "id": "7jHrZf-8qjNM"
      }
    },
    {
      "cell_type": "code",
      "source": [
        "# your code here"
      ],
      "metadata": {
        "id": "IOm50p-0rCOW"
      },
      "execution_count": null,
      "outputs": []
    },
    {
      "cell_type": "markdown",
      "source": [
        "## Task A.5\n",
        "Fit some models with interactions as described in the lab. Do any interactions appear to be statistically significant?"
      ],
      "metadata": {
        "id": "o-VUwlN4AVmx"
      }
    },
    {
      "cell_type": "code",
      "source": [
        "# your code here"
      ],
      "metadata": {
        "id": "rrHHU5CfAZTq"
      },
      "execution_count": null,
      "outputs": []
    },
    {
      "cell_type": "markdown",
      "source": [
        "*Please document your observations here*."
      ],
      "metadata": {
        "id": "FqJLtAoVAd-P"
      }
    },
    {
      "cell_type": "markdown",
      "source": [
        "## Task A.6\n",
        "Try a few different transformations of the variables, such as $log(X)$, $\\sqrt{X}$, $X^2$. Comment on your findings."
      ],
      "metadata": {
        "id": "gH7BAdNLAhSi"
      }
    },
    {
      "cell_type": "code",
      "source": [
        "# your code here"
      ],
      "metadata": {
        "id": "pN_MUvO8AutV"
      },
      "execution_count": null,
      "outputs": []
    },
    {
      "cell_type": "markdown",
      "source": [
        "*Please document your observations here.*"
      ],
      "metadata": {
        "id": "_0CWxt83AyLh"
      }
    },
    {
      "cell_type": "markdown",
      "source": [
        "# B) Simulation study\n",
        "(see textbook Exercise 3.7.14)\n",
        "\n",
        "This problem focuses on the *colinearity* problem."
      ],
      "metadata": {
        "id": "0-e3KkpGA2io"
      }
    },
    {
      "cell_type": "markdown",
      "source": [
        "## Task B.1\n",
        "Run the cell below:"
      ],
      "metadata": {
        "id": "B7WuW3ACBM-b"
      }
    },
    {
      "cell_type": "code",
      "source": [
        "rng = np.random.default_rng(10)\n",
        "x1 = rng.uniform(0, 1, size=100)\n",
        "x2 = 0.5 * x1 + rng.normal(size=100) / 10\n",
        "y = 2 + 2 * x1 + 0.3 * x2 + rng.normal(size=100)"
      ],
      "metadata": {
        "id": "MlVQ0Lc4A9AE"
      },
      "execution_count": null,
      "outputs": []
    },
    {
      "cell_type": "markdown",
      "source": [
        "The last line corresponds to creating a linear model in which `y` is a function of `x1` and `x2`. Write out the form of the linear model. What are the regression coefficients?"
      ],
      "metadata": {
        "id": "Wp6LNvvzBYP8"
      }
    },
    {
      "cell_type": "markdown",
      "source": [
        "*Your answer here*"
      ],
      "metadata": {
        "id": "BElM_S_kBgqm"
      }
    },
    {
      "cell_type": "markdown",
      "source": [
        "##Task B.2\n",
        "What is the correlation between `x1` and `x2`? Create a scatterplot displaying the relationship between the variables."
      ],
      "metadata": {
        "id": "tItw0zTXCBid"
      }
    },
    {
      "cell_type": "code",
      "source": [
        "# your code here"
      ],
      "metadata": {
        "id": "wLmcGKZaCHpa"
      },
      "execution_count": null,
      "outputs": []
    },
    {
      "cell_type": "markdown",
      "source": [
        "## Task B.3\n",
        "Using this data, fit a least squares regression to predict `y` using `x1` and `x2`. Describe the results obtained. What are $\\beta_0$ , $\\beta_1$ , and $\\beta_2$? How do these relate to the true $\\beta_0$, $\\beta_1$, $\\beta_2$? Can you reject the null hypothesis $H_0 : \\beta_1 = 0$? How about the null hypothesis $H_0 : \\beta_2 = 0$?"
      ],
      "metadata": {
        "id": "a3Gz-FvaCKaJ"
      }
    },
    {
      "cell_type": "code",
      "source": [
        "# your code here"
      ],
      "metadata": {
        "id": "4qHoEVHZCovn"
      },
      "execution_count": null,
      "outputs": []
    },
    {
      "cell_type": "markdown",
      "source": [
        "*Your comments and observations here*"
      ],
      "metadata": {
        "id": "WEJhtulACi2_"
      }
    },
    {
      "cell_type": "markdown",
      "source": [
        "## Task B.4\n",
        "Now fit a least squares regression to predict `y` using only `x1`.\n",
        "\n",
        "Comment on your results. Can you reject the null hypothesis\n",
        "$H_0 : \\beta_1 = 0$?"
      ],
      "metadata": {
        "id": "EdSfUSzWCn0I"
      }
    },
    {
      "cell_type": "code",
      "source": [
        "# your code here"
      ],
      "metadata": {
        "id": "lX1mG9WpCsb2"
      },
      "execution_count": null,
      "outputs": []
    },
    {
      "cell_type": "markdown",
      "source": [
        "*Your comments and observations here*"
      ],
      "metadata": {
        "id": "_R4ddEWsC8Fl"
      }
    },
    {
      "cell_type": "markdown",
      "source": [
        "## Task B.5\n",
        "Now fit a least squares regression to predict `y` using only `x2`.\n",
        "\n",
        "Comment on your results. Can you reject the null hypothesis\n",
        "$H_0 : \\beta_1 = 0$?"
      ],
      "metadata": {
        "id": "HatWDIumC-5_"
      }
    },
    {
      "cell_type": "code",
      "source": [
        "# your code here"
      ],
      "metadata": {
        "id": "HqbtcL3VDAz7"
      },
      "execution_count": null,
      "outputs": []
    },
    {
      "cell_type": "markdown",
      "source": [
        "*Your comments and observations here*."
      ],
      "metadata": {
        "id": "Zf1MHVo5DLRP"
      }
    },
    {
      "cell_type": "markdown",
      "source": [
        "## Task B.6\n",
        "Do the results obtained in (c)–(e) contradict each other? Explain your answer."
      ],
      "metadata": {
        "id": "GD0jpHHoDOg6"
      }
    },
    {
      "cell_type": "markdown",
      "source": [
        "*Your answer here*"
      ],
      "metadata": {
        "id": "xQTBGVGuDQon"
      }
    },
    {
      "cell_type": "markdown",
      "source": [
        "## Task B.7\n",
        "Suppose we obtain one additional observation, which was unfortunately mismeasured. We use the function `np.concatenate()` to add this additional observation to each of `x1`, `x2` and `y`."
      ],
      "metadata": {
        "id": "Z-nYOgUSDXtI"
      }
    },
    {
      "cell_type": "code",
      "source": [
        "x1 = np.concatenate([x1, [0.1]])\n",
        "x2 = np.concatenate([x2, [0.8]])\n",
        "y = np.concatenate([y, [6]])"
      ],
      "metadata": {
        "id": "YUFoN4ssDnCB"
      },
      "execution_count": null,
      "outputs": []
    },
    {
      "cell_type": "markdown",
      "source": [
        "Re-fit the linear models from Task B.3 to Task B.5 using this new data. What effect does this new observation have on the each of the models? In each model, is this observation an outlier? A high-leverage point? Both? Explain your answers."
      ],
      "metadata": {
        "id": "_hPo6a4PDxbR"
      }
    },
    {
      "cell_type": "code",
      "source": [
        "# your code here"
      ],
      "metadata": {
        "id": "4P5asMfBD9B3"
      },
      "execution_count": null,
      "outputs": []
    },
    {
      "cell_type": "markdown",
      "source": [
        "*Your answer here*"
      ],
      "metadata": {
        "id": "LlIwDe-XDaxg"
      }
    }
  ]
}