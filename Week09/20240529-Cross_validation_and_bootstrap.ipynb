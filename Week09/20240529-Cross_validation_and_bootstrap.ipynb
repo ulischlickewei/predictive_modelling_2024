{
 "cells": [
  {
   "cell_type": "markdown",
   "id": "2eeb1ec4-82f9-40e4-b16d-3468980670f8",
   "metadata": {},
   "source": [
    "# Part 1: Cross validation"
   ]
  },
  {
   "cell_type": "code",
   "execution_count": null,
   "id": "fe6c8919-3445-43b8-a26c-f0b16e5eb6eb",
   "metadata": {},
   "outputs": [],
   "source": [
    "import numpy as np\n",
    "import pandas as pd\n",
    "import matplotlib.pyplot as plt\n",
    "import seaborn as sns\n",
    "import statsmodels.api as sm\n",
    "from ISLP import load_data\n",
    "from ISLP.models import (ModelSpec as MS,\n",
    "                         summarize,\n",
    "                         poly)\n",
    "from sklearn.model_selection import train_test_split\n",
    "from functools import partial\n",
    "from sklearn.model_selection import \\\n",
    "     (cross_validate,\n",
    "      KFold,\n",
    "      ShuffleSplit)\n",
    "from sklearn.base import clone\n",
    "from ISLP.models import sklearn_sm"
   ]
  },
  {
   "cell_type": "code",
   "execution_count": null,
   "id": "cf2c30f4-852b-4370-beb5-71fe23129186",
   "metadata": {},
   "outputs": [],
   "source": [
    "import warnings\n",
    "warnings.filterwarnings('ignore')"
   ]
  },
  {
   "cell_type": "markdown",
   "id": "96850968-33fe-4daa-bf81-2f86895c55d3",
   "metadata": {},
   "source": [
    "## 1a) Validation set approach\n",
    "Objective: Use validation set approach to evaluate performance of model predicting `mpg` in `Auto` dataset based on predictor `horsepower`."
   ]
  },
  {
   "cell_type": "code",
   "execution_count": null,
   "id": "4457e761-a423-4dee-8356-d10e3f4542cf",
   "metadata": {},
   "outputs": [],
   "source": [
    "Auto =  load_data('Auto')"
   ]
  },
  {
   "cell_type": "code",
   "execution_count": null,
   "id": "1d36d2ee-a8e5-4158-9ee5-733b9a51366b",
   "metadata": {},
   "outputs": [],
   "source": [
    "train, validation = train_test_split(Auto, test_size=0.3)"
   ]
  },
  {
   "cell_type": "code",
   "execution_count": null,
   "id": "18cbaa86-66fd-4a23-be60-5443d89c1156",
   "metadata": {},
   "outputs": [],
   "source": [
    "train"
   ]
  },
  {
   "cell_type": "code",
   "execution_count": null,
   "id": "0cee215e-c079-458e-87ea-a3c2ec6eefd2",
   "metadata": {},
   "outputs": [],
   "source": [
    "validation"
   ]
  },
  {
   "cell_type": "code",
   "execution_count": null,
   "id": "8b0b44d2-9f57-413f-99f2-6d15d510fce1",
   "metadata": {},
   "outputs": [],
   "source": [
    "design = MS(['horsepower']).fit(train)\n",
    "X_train = design.transform(train)\n",
    "X_train"
   ]
  },
  {
   "cell_type": "code",
   "execution_count": null,
   "id": "3c5a6ba3-72ee-4888-a78f-c562ea2a3d2d",
   "metadata": {},
   "outputs": [],
   "source": [
    "y_train = train.mpg"
   ]
  },
  {
   "cell_type": "code",
   "execution_count": null,
   "id": "c2aa2bdf-bd80-4562-9ffa-2cd30759328c",
   "metadata": {},
   "outputs": [],
   "source": [
    "model = sm.OLS(y_train,X_train)\n",
    "results = model.fit()\n",
    "summarize(results)"
   ]
  },
  {
   "cell_type": "code",
   "execution_count": null,
   "id": "46c5f8e8-3d24-474a-ad60-2745370bc90f",
   "metadata": {},
   "outputs": [],
   "source": [
    "y_valid_actual = validation.mpg\n",
    "X_validation = design.transform(validation)\n",
    "y_valid_predicted = results.predict(X_validation)\n",
    "MSE = np.mean((y_valid_actual - y_valid_predicted)**2)\n",
    "MSE"
   ]
  },
  {
   "cell_type": "code",
   "execution_count": null,
   "id": "daba67c1-ed7a-4d78-a8c4-b7a2608fcf81",
   "metadata": {},
   "outputs": [],
   "source": [
    "X_validation"
   ]
  },
  {
   "cell_type": "code",
   "execution_count": null,
   "id": "a30a5c7f-e682-4878-a276-9ecd4d89c89e",
   "metadata": {},
   "outputs": [],
   "source": [
    "def evalMSE(predictors,\n",
    "           train,\n",
    "           validation):\n",
    "    # build design matrix and response vector\n",
    "    design = MS(predictors).fit(train)\n",
    "    X_train = design.transform(train)\n",
    "    y_train = train.mpg \n",
    "\n",
    "    # train model\n",
    "    model = sm.OLS(y_train,X_train)\n",
    "    results = model.fit()\n",
    "\n",
    "    # compute MSE\n",
    "    y_valid_actual = validation.mpg\n",
    "    X_validation = design.transform(validation)\n",
    "    y_valid_predicted = results.predict(X_validation)\n",
    "    MSE = np.mean((y_valid_actual - y_valid_predicted)**2)\n",
    "    return MSE"
   ]
  },
  {
   "cell_type": "code",
   "execution_count": null,
   "id": "97e191ba-e982-49d9-8ab6-08049617d9d4",
   "metadata": {},
   "outputs": [],
   "source": [
    "evalMSE(['horsepower'], train, validation)"
   ]
  },
  {
   "cell_type": "markdown",
   "id": "ae4f91f4-2687-4f2f-a70c-fc3ff9244364",
   "metadata": {},
   "source": [
    "Let's compute the MSE for linear regression models including successively higher polynomial terms of `horsepower`."
   ]
  },
  {
   "cell_type": "code",
   "execution_count": null,
   "id": "58dc846f-7257-417e-a650-97dc6ed8b8f0",
   "metadata": {},
   "outputs": [],
   "source": [
    "predictors = [poly('horsepower', 2)] # choose powers of horsepower as predictors up to degree i+1\n",
    "MS(predictors).fit_transform(Auto)"
   ]
  },
  {
   "cell_type": "code",
   "execution_count": null,
   "id": "69b71190-2aa5-4b7d-ac64-0b9dc6cd88a4",
   "metadata": {},
   "outputs": [],
   "source": [
    "MSE"
   ]
  },
  {
   "cell_type": "code",
   "execution_count": null,
   "id": "62b00966-81a0-42e0-9fb4-fffc45eae41b",
   "metadata": {},
   "outputs": [],
   "source": [
    "from ISLP.models import poly\n",
    "MSE = []\n",
    "for i in range(5):\n",
    "    predictors = [poly('horsepower', i+1)] # choose powers of horsepower as predictors up to degree i+1\n",
    "    err = evalMSE(predictors, train, validation)\n",
    "    MSE.append(err)"
   ]
  },
  {
   "cell_type": "code",
   "execution_count": null,
   "id": "aa354b40-ee8e-4c0b-ae27-7e9002fd3644",
   "metadata": {},
   "outputs": [],
   "source": [
    "MSE"
   ]
  },
  {
   "cell_type": "markdown",
   "id": "93e4fc03-91ec-4082-a410-10be246d127a",
   "metadata": {},
   "source": [
    "## 1b) Cross validation"
   ]
  },
  {
   "cell_type": "markdown",
   "id": "6c2bc1aa-9654-41b3-a459-69777ab0f732",
   "metadata": {},
   "source": [
    "Cross validation is implemented most comfortably in `scikit-learn`. In order to use the `scikit-learn` implementation of cross validation with our `statsmodels` linear model, we use the wrapper `sklearn_sm` provided by the `ISLP` library. From the lab in Chapter 5:\n",
    "\n",
    "\"The class `sklearn_sm()` has as its first argument a model from `statsmodels`. It can take two additional optional arguments: `model_str` which can be used to specify a formula, and `model_args` which should be a dictionary of additional arguments used when fitting the model. For example, to fit a logistic regression model we have to specify a family argument. This is passed as `model_args={'family':sm.families.Binomial()}`.\"\n",
    "\n",
    "After specifying our design matrix `X` and the vector `y` we call the `scikit-learn` function `cross_validate` (see [documentation](https://scikit-learn.org/stable/modules/generated/sklearn.model_selection.cross_validate.html)).\n",
    "\n",
    "The result is a dictionary which among others contains the `test_score` which we are interested when we use cross validation to estimate the test error."
   ]
  },
  {
   "cell_type": "code",
   "execution_count": null,
   "id": "5041bb1a-9938-4979-a691-15c445c3e10c",
   "metadata": {},
   "outputs": [],
   "source": [
    "..."
   ]
  },
  {
   "cell_type": "markdown",
   "id": "dda468f9-0b66-4be7-b77f-7df234e958ae",
   "metadata": {},
   "source": [
    "The function `cross_validate` is the original `scikit-learn` function which carries out cross validation. We provide the following arguments:\n",
    "- a model which needs `fit()` and `predict()` methods\n",
    "- a design matrix `X` and a vector of training labels `y`\n",
    "- the parameter `cv` specifying the number of folds for cross validation.\n",
    "\n",
    "See the [official documentation](https://scikit-learn.org/stable/modules/generated/sklearn.model_selection.cross_validate.html) for more details."
   ]
  },
  {
   "cell_type": "markdown",
   "id": "6bfa31f5-b248-486a-a787-4237be3eadbe",
   "metadata": {},
   "source": [
    "We can repeat this procedure to compare different models. In the following we do this with various polynomial fits:"
   ]
  },
  {
   "cell_type": "code",
   "execution_count": null,
   "id": "7fd5f297-f0d1-464e-8725-06a8f124cf09",
   "metadata": {},
   "outputs": [],
   "source": [
    "..."
   ]
  },
  {
   "cell_type": "markdown",
   "id": "41d9e78a-7e5a-438c-a279-8c95266cb9db",
   "metadata": {},
   "source": [
    "Instead of using $K = n$ folds such as above (resulting in Leave-One-Out-Cross-Validation (LOOCV)) we can also specify a smaller integer $K$ of folds. There are two possibilities for this:\n",
    "- set `cv = K`,\n",
    "- specify a cross validation generator such as `KFold` (see [documentation](https://scikit-learn.org/stable/modules/generated/sklearn.model_selection.KFold.html))\n",
    "\n",
    "Below we use the second approach, which is generally preferred as we do better control the kind of split when using `KFold`."
   ]
  },
  {
   "cell_type": "code",
   "execution_count": null,
   "id": "9388ae58-62c4-4b00-90d6-1593ae144178",
   "metadata": {},
   "outputs": [],
   "source": [
    "..."
   ]
  },
  {
   "cell_type": "markdown",
   "id": "1eab36e5-c629-4ae3-8783-89823f392af7",
   "metadata": {},
   "source": [
    "# Part 2: Case study cross validation\n",
    "\n",
    "(see Exercise 5.4.5)\n",
    "\n",
    "In this case study we use the credit card dataset to predict the probability of default. We will build a logistic regression model and estimate its test error using the validation set approach and the cross-validation approach."
   ]
  },
  {
   "cell_type": "code",
   "execution_count": null,
   "id": "b8ed8e43-d25a-4a02-988f-49ce67770870",
   "metadata": {},
   "outputs": [],
   "source": [
    "# run this cell to load the data\n",
    "Default = load_data('Default')\n",
    "Default"
   ]
  },
  {
   "cell_type": "markdown",
   "id": "7f9c6317-cf99-49d9-ae60-753f09eb793a",
   "metadata": {},
   "source": [
    "Background information on the dataset can be found [in the documentation](https://islp.readthedocs.io/en/latest/datasets/Default.html)."
   ]
  },
  {
   "cell_type": "markdown",
   "id": "f7a75412-c7de-491e-b9be-d0ec886617b0",
   "metadata": {},
   "source": [
    "## Task 2.1\n",
    "Fit a logistic regression model that uses `income` and `balance` to predict `default`."
   ]
  },
  {
   "cell_type": "code",
   "execution_count": null,
   "id": "727109ed-48b7-4c9e-bc44-8c36b14a3c81",
   "metadata": {},
   "outputs": [],
   "source": [
    "# your code here\n",
    "..."
   ]
  },
  {
   "cell_type": "markdown",
   "id": "f5cc651b-8665-48f2-a7d1-bfadb49d1c94",
   "metadata": {
    "jp-MarkdownHeadingCollapsed": true
   },
   "source": [
    "## Task 2.2\n",
    "Using the validation set approach, estimate the test error of this model. In order to do this, you must perform the following steps:\n",
    "\n",
    "i. Split the sample set into a training set and a validation set.\n",
    "\n",
    "ii. Fit a multiple logistic regression model using only the training observations.\n",
    "\n",
    "iii. Obtain a prediction of default status for each individual in the validation set by computing the posterior probability of default for that individual, and classifying the individual to the default category if the posterior probability is greater than 0.5.\n",
    "\n",
    "iv. Compute the validation set error, which is the fraction of the observations in the validation set that are misclassified."
   ]
  },
  {
   "cell_type": "code",
   "execution_count": null,
   "id": "b98a4cf7-6068-4c36-a14b-449001af21a1",
   "metadata": {},
   "outputs": [],
   "source": [
    "# your code here\n",
    "..."
   ]
  },
  {
   "cell_type": "markdown",
   "id": "a79e016c-9404-478e-9ca7-dd5b4d405bdf",
   "metadata": {},
   "source": [
    "## Task 2.3\n",
    "Repeat the process in (b) three times, using three different splits of the observations into a training set and a validation set. Comment on the results obtained."
   ]
  },
  {
   "cell_type": "code",
   "execution_count": null,
   "id": "d6678f73-12fb-4cc6-a898-c065e3d0247f",
   "metadata": {},
   "outputs": [],
   "source": [
    "# your code here\n",
    "..."
   ]
  },
  {
   "cell_type": "markdown",
   "id": "856893a5-2422-4e97-8641-5bbe75504e0b",
   "metadata": {},
   "source": [
    "## Task 2.4\n",
    "Now predict the test error of the model using 10-fold cross-validation. To do so, follow the steps we developed in Part 1b) of this notebook."
   ]
  },
  {
   "cell_type": "code",
   "execution_count": null,
   "id": "ca5eb851-765d-499d-9cdb-4f9f2f2d26c4",
   "metadata": {},
   "outputs": [],
   "source": [
    "# your code here\n",
    "..."
   ]
  },
  {
   "cell_type": "markdown",
   "id": "c8d4eeec-0d91-4fb1-8ac1-8e066fedd68d",
   "metadata": {},
   "source": [
    "## Task 2.5\n",
    "Now consider a logistic regression model that predicts the probability of default using income, balance, and a dummy variable for student. Estimate the test error for this model using 10-fold cross-validation. Comment on whether or not including a dummy variable for student leads to a reduction in the test error rate."
   ]
  },
  {
   "cell_type": "code",
   "execution_count": null,
   "id": "2d922248-f09f-49b6-9b39-a873c4883974",
   "metadata": {},
   "outputs": [],
   "source": [
    "# your code here\n",
    "..."
   ]
  },
  {
   "cell_type": "markdown",
   "id": "d29a4c7d-a6e4-4069-90ca-297f6b0be87d",
   "metadata": {},
   "source": [
    "# Part 3: Implementation of bootstrap"
   ]
  },
  {
   "cell_type": "markdown",
   "id": "b35bdedf-192c-4e2c-b95e-49897a3bf93d",
   "metadata": {},
   "source": [
    "## Estimating the accuracy of a statistic\n",
    "### Introducing the dataset\n",
    "We closely follow an example presented in [Computational and Inferential Thinking](https://inferentialthinking.com/chapters/13/3/Confidence_Intervals.html)."
   ]
  },
  {
   "cell_type": "code",
   "execution_count": null,
   "id": "eaa7a56c-e6f9-4076-9ea7-53ebc6f931bd",
   "metadata": {},
   "outputs": [],
   "source": [
    "url = 'https://drive.google.com/uc?id='\n",
    "file_id = \"15xUDQPqkzKJBoxrafC9iNz4EgFlwbmM_\"\n",
    "births = pd.read_csv(url + file_id)\n",
    "births"
   ]
  },
  {
   "cell_type": "markdown",
   "id": "0b7f388d-e618-4d0d-8d94-990c24227b2a",
   "metadata": {},
   "source": [
    "**Task 1**: Create a new column `Birth Weight (g)` which contains the birth weight in kg. Use the fact 1oz = 28.3495g for your computations."
   ]
  },
  {
   "cell_type": "code",
   "execution_count": null,
   "id": "7e75b2e6-78cc-4183-a4a5-a6bce400b451",
   "metadata": {},
   "outputs": [],
   "source": [
    "..."
   ]
  },
  {
   "cell_type": "markdown",
   "id": "f7fc53d3-3f6d-4562-a0ae-f31ceb497679",
   "metadata": {},
   "source": [
    "Birth weight is an important factor in the health of a newborn infant. Smaller babies tend to need more medical care in their first days than larger newborns. It is therefore helpful to have an estimate of birth weight before the baby is born. One way to do this is to examine the relationship between birth weight and the number of gestational days.\n",
    "\n",
    "A simple measure of this relationship is the ratio of birth weight to the number of gestational days. The table ratios contains the first two columns of baby, as well as a column of the ratios. The first entry in that column was calculated as follows:\n",
    "$$ \\frac{3401.94 \\text{oz}}{284 \\text{ days}} \\approx 11.98 \\text{g} \\text{ per day}.$$"
   ]
  },
  {
   "cell_type": "code",
   "execution_count": null,
   "id": "1448b110-b01e-4c2b-ac93-8be4d8cc29f5",
   "metadata": {},
   "outputs": [],
   "source": [
    "ratios = pd.DataFrame({\n",
    "    'Birth Weight' : births['Birth Weight (g)'],\n",
    "    'Ratio BW:GD' : births['Birth Weight (g)'] / births['Gestational Days']\n",
    "})\n",
    "ratios"
   ]
  },
  {
   "cell_type": "markdown",
   "id": "01fb3e7f-67f0-4e96-8fe6-b306691328bf",
   "metadata": {},
   "source": [
    "**Task 2:** Plot a histogram of the ratios."
   ]
  },
  {
   "cell_type": "code",
   "execution_count": null,
   "id": "2b89d008-c778-4557-82ab-4952daecbf0a",
   "metadata": {},
   "outputs": [],
   "source": [
    "fig,ax  = plt.subplots(figsize =(8,8))\n",
    "sns.histplot(ratios, x = \"Ratio BW:GD\");"
   ]
  },
  {
   "cell_type": "markdown",
   "id": "670cd39b-c836-48a8-9b36-cc5371ac7fd0",
   "metadata": {},
   "source": [
    "**Task 3:** Compute the median ratio and the maximum ratio in the sample."
   ]
  },
  {
   "cell_type": "code",
   "execution_count": null,
   "id": "f0f78d01-393f-425d-9362-caddda9aa884",
   "metadata": {},
   "outputs": [],
   "source": [
    "..."
   ]
  },
  {
   "cell_type": "code",
   "execution_count": null,
   "id": "f95e0c0b-f17d-4f22-a945-a345b88019ac",
   "metadata": {},
   "outputs": [],
   "source": [
    "..."
   ]
  },
  {
   "cell_type": "markdown",
   "id": "47b95260-fb79-454b-a48f-4ef74310a13c",
   "metadata": {},
   "source": [
    "### Bootstrapping for estimating the variability of the population median\n",
    "We now want to estimate the population median. For this we are going to use the bootstrapping method.\n",
    "We start by reviewing the idea in a graphical manner:\n",
    "![bootstrap.png](bootstrap.png)"
   ]
  },
  {
   "cell_type": "markdown",
   "id": "49aac012-f61e-408a-90f2-f3d92cd6f9b7",
   "metadata": {},
   "source": [
    "**Task 1**: Define a function `one_bootstrap_median` which will bootstrap the sample and return the median ratio in the bootstrapped sample.\n",
    "\n",
    "- To bootstrap the sample use the Pandas.DataFrame method [`sample`](https://pandas.pydata.org/docs/reference/api/pandas.DataFrame.sample.html). *Important*: Make sure to draw a sample of the same length as our original sample and make sure to sample with replacement.\n",
    "- To compute the appropriate quantile, use the Numpy method [`quantile`](https://numpy.org/doc/stable/reference/generated/numpy.quantile.html)"
   ]
  },
  {
   "cell_type": "code",
   "execution_count": null,
   "id": "3e82d39d-c8b6-4b13-86ba-7b101d9ba430",
   "metadata": {},
   "outputs": [],
   "source": [
    "..."
   ]
  },
  {
   "cell_type": "markdown",
   "id": "e2cc30de-eb7d-44c7-a76c-eafad735a741",
   "metadata": {},
   "source": [
    "**Task 2**: Initialize a Numpy vector `bootstrap_medians` with zeros of length 5000 (use the Numpy method [`zeros()`](https://numpy.org/doc/stable/reference/generated/numpy.zeros.html#numpy.zeros). Then fill this vector with 5000 bootstrapped medians."
   ]
  },
  {
   "cell_type": "code",
   "execution_count": null,
   "id": "5b26b817-6268-4adb-8533-7c052b39841b",
   "metadata": {},
   "outputs": [],
   "source": [
    "..."
   ]
  },
  {
   "cell_type": "code",
   "execution_count": null,
   "id": "d55b6280-80ba-45fb-a2b4-6815f9296ef7",
   "metadata": {},
   "outputs": [],
   "source": [
    "fig,ax  = plt.subplots(figsize =(8,8))\n",
    "sns.histplot(x = bootstrap_medians, bins=25);"
   ]
  },
  {
   "cell_type": "markdown",
   "id": "8f441ba0-e6c2-451d-a978-5c4d31403195",
   "metadata": {},
   "source": [
    "# Bootstrapping for estimating the accuracy of a Linear Regression Model\n",
    "Now, we discuss how to use bootstrapping in order to assess the variability of the coefficient estimates and predictions from a statistical learning method. As an example, we look at a simple linear regression model based on the `Auto` dataset which predicts the `mpg` variable based on `horsepower`.\n",
    "\n",
    "With the bootstrap method we are going to estimate the distribution of the coefficient for `mpg` in this model and we compare the standard error of this coefficient as estimated by `statsmodels` with our bootstrap estimate."
   ]
  },
  {
   "cell_type": "markdown",
   "id": "426ef279-f074-4e3b-9961-a52a0e25eeb4",
   "metadata": {},
   "source": [
    "**Task 1**: Define a function `one_bootstrap_model_coefficient` which creates a single bootstrap sample from the Auto dataframe, computes a regression model based on the single predictor `horsepower` and returns the model coefficient for `horsepower`."
   ]
  },
  {
   "cell_type": "code",
   "execution_count": null,
   "id": "4adc4476-6684-4bf1-b83c-69120181b940",
   "metadata": {},
   "outputs": [],
   "source": [
    "..."
   ]
  },
  {
   "cell_type": "markdown",
   "id": "f70fd91b-337b-4341-bb79-41fe29e843c4",
   "metadata": {},
   "source": [
    "**Task 2**: Initialize a Numpy vector `bootstrap_model_coefficients` with zeros of length 5000 (use the Numpy method [`zeros()`](https://numpy.org/doc/stable/reference/generated/numpy.zeros.html#numpy.zeros). Then fill this vector with 5000 bootstrapped model coefficients."
   ]
  },
  {
   "cell_type": "code",
   "execution_count": null,
   "id": "d8d2e0f1-ca8d-41d0-aa25-4bfe5df057fd",
   "metadata": {},
   "outputs": [],
   "source": [
    "..."
   ]
  },
  {
   "cell_type": "code",
   "execution_count": null,
   "id": "900f9da5-8abd-4d97-995b-7c0463013ae3",
   "metadata": {},
   "outputs": [],
   "source": [
    "fig,ax  = plt.subplots(figsize =(8,8))\n",
    "sns.histplot(x = bootstrap_model_coefficients, bins=25);"
   ]
  },
  {
   "cell_type": "markdown",
   "id": "e05c6dd4-3c38-4b7a-b17d-ce83889d3ce7",
   "metadata": {},
   "source": [
    "**Task 3**: Estimate the standard error of the model coefficient for `horsepower` and assign it to the variable `standard_error_bootstrap`. Compare to the `sm.OLS()` estimate which should be assigned to the variable `standard_error_bootstrap`."
   ]
  },
  {
   "cell_type": "code",
   "execution_count": null,
   "id": "5d3d00c4-f233-472d-84c7-2332adb8f3d7",
   "metadata": {},
   "outputs": [],
   "source": [
    "...\n",
    "\n",
    "print('Bootstrapped standard error for model coefficient:', \"{:10.4f}\".format(standard_error_bootstrap))\n",
    "print('Statsmodels OLS standard error estimate for model coefficient:', \"{:10.4f}\".format(standard_error_statsmodels))"
   ]
  },
  {
   "cell_type": "markdown",
   "id": "4cf526b8-36be-4696-8d8e-fb75fcebe589",
   "metadata": {},
   "source": [
    "# Part 4: Case study bootstrap\n",
    "\n",
    "We continue to consider the use of a logistic regression model to predict the probability of default using income and balance on the Default data set. In particular, we will now compute estimates for the standard errors of the income and balance logistic regression coefficients in two different ways: \n",
    "1. using the bootstrap, and \n",
    "2. using the standard formula for computing the standard errors in the sm.GLM() function."
   ]
  },
  {
   "cell_type": "code",
   "execution_count": null,
   "id": "bc801bc6-9c00-48b8-bb3a-ad73dc083291",
   "metadata": {},
   "outputs": [],
   "source": []
  },
  {
   "cell_type": "markdown",
   "id": "c5ee55e0-f562-469e-b8e6-ad15fc52fda5",
   "metadata": {},
   "source": [
    "## Task 4.1\n",
    "Using the `summarize()` and `sm.GLM()` functions, determine the estimated standard errors for the coefficients associated with income and balance in a multiple logistic regression model that uses both predictors."
   ]
  },
  {
   "cell_type": "code",
   "execution_count": null,
   "id": "ece8e8c9-4be6-425f-8191-043b6452645b",
   "metadata": {},
   "outputs": [],
   "source": [
    "# your answer here"
   ]
  },
  {
   "cell_type": "markdown",
   "id": "1cfb5ce4-e4bd-4076-989a-96542a570bd8",
   "metadata": {},
   "source": [
    "## Task 4.2\n",
    "Following the bootstrap example in Part 3 above, estimate the standard errors of the logistic regression coefficients for income and balance with the bootstrap."
   ]
  },
  {
   "cell_type": "code",
   "execution_count": null,
   "id": "44bfea0f-cced-4ff9-ade9-85790472f24f",
   "metadata": {},
   "outputs": [],
   "source": [
    "# your answer here"
   ]
  },
  {
   "cell_type": "markdown",
   "id": "83f0a3d9-c440-4635-9551-bcb7d391b0cc",
   "metadata": {},
   "source": [
    "## Task 4.3\n",
    "Comment on the estimated standard errors obtained using the `sm.GLM()` function and using the bootstrap."
   ]
  },
  {
   "cell_type": "markdown",
   "id": "66d07b5c-8901-4d15-a6fc-57c9cec115d1",
   "metadata": {},
   "source": [
    "*your comment here*"
   ]
  }
 ],
 "metadata": {
  "kernelspec": {
   "display_name": "Python 3 (ipykernel)",
   "language": "python",
   "name": "python3"
  },
  "language_info": {
   "codemirror_mode": {
    "name": "ipython",
    "version": 3
   },
   "file_extension": ".py",
   "mimetype": "text/x-python",
   "name": "python",
   "nbconvert_exporter": "python",
   "pygments_lexer": "ipython3",
   "version": "3.9.7"
  }
 },
 "nbformat": 4,
 "nbformat_minor": 5
}
