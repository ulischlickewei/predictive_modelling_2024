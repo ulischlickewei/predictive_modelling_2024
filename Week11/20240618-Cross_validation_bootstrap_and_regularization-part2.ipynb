{
 "cells": [
  {
   "cell_type": "markdown",
   "id": "1821d5ab-8d41-4d0d-b05b-d215d1d7830e",
   "metadata": {},
   "source": [
    "## Preparing the environment"
   ]
  },
  {
   "cell_type": "code",
   "execution_count": 1,
   "id": "fe6c8919-3445-43b8-a26c-f0b16e5eb6eb",
   "metadata": {},
   "outputs": [],
   "source": [
    "import numpy as np\n",
    "import pandas as pd\n",
    "import matplotlib.pyplot as plt\n",
    "import seaborn as sns\n",
    "import statsmodels.api as sm\n",
    "from ISLP import load_data\n",
    "from ISLP.models import (ModelSpec as MS,\n",
    "                         summarize,\n",
    "                         poly)\n",
    "from sklearn.model_selection import train_test_split\n",
    "from functools import partial\n",
    "from sklearn.model_selection import \\\n",
    "     (cross_validate,\n",
    "      KFold,\n",
    "      ShuffleSplit)\n",
    "from sklearn.base import clone\n",
    "from sklearn.metrics import make_scorer\n",
    "from ISLP.models import sklearn_sm\n",
    "\n",
    "import plotly.express as px"
   ]
  },
  {
   "cell_type": "code",
   "execution_count": 2,
   "id": "cf2c30f4-852b-4370-beb5-71fe23129186",
   "metadata": {},
   "outputs": [],
   "source": [
    "import warnings\n",
    "warnings.filterwarnings('ignore')"
   ]
  },
  {
   "cell_type": "markdown",
   "id": "4cf526b8-36be-4696-8d8e-fb75fcebe589",
   "metadata": {},
   "source": [
    "# Part 1: Case study bootstrap\n",
    "\n",
    "We continue to consider the use of a logistic regression model to predict the probability of default using income and balance on the `Default` data set. In particular, we will now compute estimates for the standard errors of the income and balance logistic regression coefficients in two different ways: \n",
    "1. using the bootstrap, and \n",
    "2. using the standard formula for computing the standard errors in the sm.GLM() function."
   ]
  },
  {
   "cell_type": "code",
   "execution_count": null,
   "id": "2e85f2b4-c0cf-4f3d-9ce9-5cb9a99db209",
   "metadata": {},
   "outputs": [],
   "source": [
    "# run this cell to load the data\n",
    "Default = load_data('Default')\n",
    "Default"
   ]
  },
  {
   "cell_type": "markdown",
   "id": "c5ee55e0-f562-469e-b8e6-ad15fc52fda5",
   "metadata": {},
   "source": [
    "## Task 1.1\n",
    "Using the `summarize()` and `sm.GLM()` functions, determine the estimated standard errors for the coefficients associated with `income` and `balance` in a multiple logistic regression model that uses both predictors."
   ]
  },
  {
   "cell_type": "code",
   "execution_count": null,
   "id": "ece8e8c9-4be6-425f-8191-043b6452645b",
   "metadata": {},
   "outputs": [],
   "source": [
    "..."
   ]
  },
  {
   "cell_type": "markdown",
   "id": "1cfb5ce4-e4bd-4076-989a-96542a570bd8",
   "metadata": {},
   "source": [
    "## Task 1.2\n",
    "Following the bootstrap example in Part 2 above, estimate the standard errors of the logistic regression coefficients for income and balance with the bootstrap."
   ]
  },
  {
   "cell_type": "code",
   "execution_count": null,
   "id": "44bfea0f-cced-4ff9-ade9-85790472f24f",
   "metadata": {},
   "outputs": [],
   "source": [
    "# Step 1: Define function to compute one bootstrap sample of the model coefficients\n",
    "..."
   ]
  },
  {
   "cell_type": "code",
   "execution_count": null,
   "id": "14b9bb1f-5ea9-4f5a-9388-ad3ffa0a404d",
   "metadata": {},
   "outputs": [],
   "source": [
    "# Step 2: \n",
    "..."
   ]
  },
  {
   "cell_type": "code",
   "execution_count": null,
   "id": "7cfce934-2864-4497-8f54-b9a70885044c",
   "metadata": {},
   "outputs": [],
   "source": [
    "# Step 3a: comparison of bootstrap standard errors and standard errors as per statsmodels.Logit() - balance\n",
    "print('Bootstrap estimation of standard error for balance parameter:   ', \n",
    "      '{:6e}'.format(np.std(balance_coefficients))\n",
    ")\n",
    "print('Statsmodels estimation of standard error for balance parameter: ', \n",
    "      '{:6e}'.format(summarize(results).loc['balance','std err'])\n",
    ")"
   ]
  },
  {
   "cell_type": "code",
   "execution_count": null,
   "id": "3456658d-f02f-4318-9831-b33d560f2154",
   "metadata": {},
   "outputs": [],
   "source": [
    "# Step 3b: comparison of bootstrap standard errors and standard errors as per statsmodels.Logit() - income\n",
    "print('Bootstrap estimation of standard error for income parameter:   ', \n",
    "      '{:6e}'.format(np.std(income_coefficients))\n",
    ")\n",
    "print('Statsmodels estimation of standard error for income parameter: ', \n",
    "      '{:6e}'.format(summarize(results).loc['income','std err'])\n",
    ")"
   ]
  },
  {
   "cell_type": "markdown",
   "id": "95ecc781-c801-4abc-b6d7-d3b0da91068c",
   "metadata": {},
   "source": [
    "## Task 1.3\n",
    "\n",
    "Comment on the estimated standard errors obtained using the `sm.Logit()`/`sm.GLM()` function and using the bootstrap."
   ]
  },
  {
   "cell_type": "markdown",
   "id": "66d07b5c-8901-4d15-a6fc-57c9cec115d1",
   "metadata": {},
   "source": [
    "*Your comment here*"
   ]
  },
  {
   "cell_type": "markdown",
   "id": "c155972d-68f4-47db-98bb-2acf8022b963",
   "metadata": {},
   "source": [
    "# Part 2: Regularization"
   ]
  },
  {
   "cell_type": "markdown",
   "id": "12d71fd0-814e-47e3-b567-0f91382d8256",
   "metadata": {},
   "source": [
    "In this section we learn how to implement regularization for linear regression models using Ridge and the Lasso formalisms.\n",
    "\n",
    "We look at a [market research project by a pharmaceutical company](https://www.tandfonline.com/doi/abs/10.1080/02664763.2014.994480) (example taken from the textbook [Learning Data Science](https://learningds.org/ch/16/ms_regularization.html#lipovetsky)) by S. Lau, J. Gonzalez and D. Nolan).\n",
    "\n",
    "The objective of the study is to model consumer interest in purchasing a cold sore health-care product. The study authors gather data from 1,023 consumers. Each consumer is asked to rate on a 10-point scale 35 factors according to whether the factor matters to them when considering purchasing a cold sore treatment. They also rate their interest in purchasing the product.\n",
    "\n",
    "We begin by reading in the data:"
   ]
  },
  {
   "cell_type": "code",
   "execution_count": null,
   "id": "28f276f6-be7c-4ef8-8f2d-f337eaa86665",
   "metadata": {},
   "outputs": [],
   "source": [
    "ma_df = pd.read_csv('market-analysis.csv')"
   ]
  },
  {
   "cell_type": "markdown",
   "id": "ecd9c753-76b8-4edf-a1af-e75aee76cac1",
   "metadata": {},
   "source": [
    "The table below lists the 35 factors and provides their correlation to the outcome, their interest in purchasing the product:\n",
    "\n",
    "\n",
    "\n",
    "|  | Corr | Description |  | Corr | Description |\n",
    "| --- | --- | --------- | --- | --- | --------- |\n",
    "| x1  | 0.70 | provides soothing relief | x19 | 0.54 | has a non-messy application |\n",
    "| x2  | 0.58 | moisturizes cold sore blister | x20 | 0.70 | good for any stage of a cold |\n",
    "| x3  | 0.69 | provides long-lasting relief | x21 | 0.49 | easy to apply/take |\n",
    "| x4  | 0.70 | provides fast-acting relief | x22 | 0.52 | package keeps from contamination |\n",
    "| x5 | 0.72 | shortens duration of a cold | x23 | 0.57 | easy to dispense a right amount |\n",
    "| x6  | 0.68 | stops the virus from spreading | x24 | 0.63 | worth the price it costs |\n",
    "| x7 | 0.67| dries up cold sore | x25 | 0.57 | recommended most by pharamacists |\n",
    "| x8 | 0.72 | heals fast | x26 | 0.54 | recommended by doctors |\n",
    "| x9 | 0.72 | penetrates deep | x27 | 0.54 | FDA approved |\n",
    "| x10 | 0.65 | relieves pain | x28 | 0.64 | a brand I trust |\n",
    "| x11 |0.61 | prevents cold | x29 | 0.60 | clinically proven |\n",
    "| x12 | 0.73 | prevents from getting worse | x30 | 0.68 | a brand I would recommend |\n",
    "| x13 | 0.57 | medicated | x31 | 0.74 | an effective treatment |\n",
    "| x14 | 0.61 | prescription strength | x32  |0.37 | portable |\n",
    "| x15 | 0.63 | repairs damaged skin | x33 | 0.37 | discreet packaging |\n",
    "| x16 | 0.67 | blocks virus from spreading | x34 | 0.55 | helps conceal cold sores |\n",
    "| x17 | 0.42 | contains SPF | x35 | 0.63 | absorbs quickly |\n",
    "| x18 | 0.57 | non-irritating | | | |\n"
   ]
  },
  {
   "cell_type": "markdown",
   "id": "62f31ccb-4035-4499-90a6-de1246bfb204",
   "metadata": {},
   "source": [
    "Based on their labels alone, some of these 35 features appear to measure similar aspects of desirability. We can compute the correlations between the explanatory variables to confirm this:"
   ]
  },
  {
   "cell_type": "code",
   "execution_count": null,
   "id": "b7e87e0e-aef2-4e89-bdc1-2e3425fb6e79",
   "metadata": {
    "scrolled": true
   },
   "outputs": [],
   "source": [
    "ma_df.corr()"
   ]
  },
  {
   "cell_type": "markdown",
   "id": "81ca6b7e-7800-4289-830c-dd2ade47b3b9",
   "metadata": {},
   "source": [
    "We observe for example that the last feature `x35` (\"arsorbs quickly\") is highly correlated to `x1` (\"provides soothing relief\"), `x4` (\"provides fast-acting relief\") or `x9` (\"penetrates deep\")."
   ]
  },
  {
   "cell_type": "markdown",
   "id": "fb4e2474-8d6a-4459-b576-dcdf4e2cd5bb",
   "metadata": {},
   "source": [
    "## Task 2.1\n",
    "\n",
    "Split the data into train and test sets. Use a test set size of 200 observations."
   ]
  },
  {
   "cell_type": "code",
   "execution_count": null,
   "id": "7667898d-c6c9-40de-9570-12f9da7d8c3f",
   "metadata": {},
   "outputs": [],
   "source": [
    "y = ma_df[\"y\"]\n",
    "X = ma_df.drop(columns=[\"y\"])\n",
    "\n",
    "X_train, X_test, y_train, y_test = ..."
   ]
  },
  {
   "cell_type": "markdown",
   "id": "c82c3df3-57f4-4746-8a7a-4070b54322e8",
   "metadata": {},
   "source": [
    "## Task 2.2\n",
    "\n",
    "Standardize the features using the `sklearn.preprocessing.StandardScaler()` (see [documentation](https://scikit-learn.org/stable/modules/generated/sklearn.preprocessing.StandardScaler.html) method. Note that only the predictors need to be scaled."
   ]
  },
  {
   "cell_type": "code",
   "execution_count": null,
   "id": "241f82af-2eda-457c-86ef-d17ac2016950",
   "metadata": {},
   "outputs": [],
   "source": [
    "from sklearn.preprocessing import StandardScaler\n",
    "\n",
    "X_train_scaled = ...\n",
    "X_test_scaled = ..."
   ]
  },
  {
   "cell_type": "markdown",
   "id": "71842a82-c7f4-49be-bb60-cc12f078a20c",
   "metadata": {},
   "source": [
    "Run the cell below to check that scaled training data has mean 0 and SD 1 (approximately):"
   ]
  },
  {
   "cell_type": "code",
   "execution_count": null,
   "id": "bfd9b022-0ac7-4c31-8f06-ae5c4a529666",
   "metadata": {},
   "outputs": [],
   "source": [
    "X_train_scaled.mean(axis=0)"
   ]
  },
  {
   "cell_type": "code",
   "execution_count": null,
   "id": "35acc72a-1bde-4272-9ea7-945ef5fa9b47",
   "metadata": {},
   "outputs": [],
   "source": [
    "X_train_scaled.std(axis=0)"
   ]
  },
  {
   "cell_type": "markdown",
   "id": "92088dd1-263c-482d-99d8-89293c633e2b",
   "metadata": {},
   "source": [
    "Note that this is **not** the case for the test data (**why?**):"
   ]
  },
  {
   "cell_type": "code",
   "execution_count": null,
   "id": "60aca358-b1ec-44a6-9dc6-a2d9a02666bc",
   "metadata": {},
   "outputs": [],
   "source": [
    "X_test_scaled.mean(axis=0)"
   ]
  },
  {
   "cell_type": "code",
   "execution_count": null,
   "id": "451f45bd-d02f-4832-af1d-2ed5b9a901f3",
   "metadata": {},
   "outputs": [],
   "source": [
    "X_test_scaled.std(axis=0)"
   ]
  },
  {
   "cell_type": "markdown",
   "id": "a4930fc5-b1a8-46ee-b8d2-7335c3b0bf9d",
   "metadata": {},
   "source": [
    "## Task 2.3\n",
    "\n",
    "We start by computing an ordinary multiple linear regression model. For consistency with the subsequent tasks we use `sklearn.linear_models.LinearRegression` this time (see [documentation](https://scikit-learn.org/stable/modules/generated/sklearn.linear_model.LinearRegression.html).\n",
    "\n",
    "In the following, train a Multiple Linear Regression model on the scaled training data.\n",
    "\n",
    "Compute the model coefficients (using the `coef_` attribute of the trained model) and the mean squared error on the test data (using the function `sklearn.metrics.mean_squared_error()` (see [documentation](https://scikit-learn.org/stable/modules/generated/sklearn.metrics.mean_squared_error.html))).\n",
    "\n",
    "*Note*: The design matrix and the results vector are passed only as arguments to the `fit()` method for `sklearn` models. This is different than for `statsmodels` where we passed the data already at the stage of initializing the model. Additionally, the order in which the design matrix and the results vector are passed to a `sklearn`-model is swapped compared to `statsmodels`!\n",
    "\n",
    "Also note: for linear models in `sklearn` we do not need to manually create an `intercept` column as we can specify if we want an intercept to be included using the `fit_intercept` argument when initializing the model. This parameter is set to `True` by default."
   ]
  },
  {
   "cell_type": "code",
   "execution_count": null,
   "id": "5c41e0c3-bea2-4de4-b681-2d4e7ce7e2c1",
   "metadata": {},
   "outputs": [],
   "source": [
    "from sklearn.linear_model import LinearRegression\n",
    "from sklearn.metrics import mean_squared_error\n",
    "\n",
    "coefficients = ...\n",
    "mse = ...\n",
    "\n",
    "print('Multiple Linear Regression model coefficients: ', coefficients)\n",
    "print('Mutiple Linear Regression test MSE: ', mse)"
   ]
  },
  {
   "cell_type": "markdown",
   "id": "c2a86ed7-152a-409d-b9b8-8f97f4f7ccea",
   "metadata": {},
   "source": [
    "## Task 2.4\n",
    "\n",
    "Repeat Task 4.3, but this time train your model on the unscaled data. What do you observe?"
   ]
  },
  {
   "cell_type": "code",
   "execution_count": null,
   "id": "745c4e63-0c4e-4397-9f28-cc6d332a7174",
   "metadata": {},
   "outputs": [],
   "source": [
    "coefficients = ...\n",
    "mse = ...\n",
    "\n",
    "print('Multiple Linear Regression model coefficients: ', coefficients)\n",
    "print('Mutiple Linear Regression test MSE: ', mse)"
   ]
  },
  {
   "cell_type": "markdown",
   "id": "25d49317-a1ab-4dc2-a3df-83c056c1c8a9",
   "metadata": {},
   "source": [
    "**Observation**: The model trained on the unscaled data is equivalent to the model trained on the scaled data as can be seen by comparing the two model's test MSE which are identical."
   ]
  },
  {
   "cell_type": "markdown",
   "id": "b0e9e9d4-71f0-4224-a6ac-08bc711d1315",
   "metadata": {},
   "source": [
    "## Task 2.5\n",
    "\n",
    "Next, we implement Lasso regression using `sklearn.linear_model.Lasso` (see [documentation](https://scikit-learn.org/stable/modules/generated/sklearn.linear_model.Lasso.html)). \n",
    "\n",
    "In the following, train a Lasso model on the scaled training data using the regularization parameter $\\lambda = 1$. Note that $\\lambda$ is set by specifying the argument `alpha` in `sklearn.linear_model.Lasso`.\n",
    "\n",
    "Compute the model coefficients (using the `coef_` attribute of the trained model) and the mean squared error on the test data (using the function `sklearn.metrics.mean_squared_error()` (see [documentation](https://scikit-learn.org/stable/modules/generated/sklearn.metrics.mean_squared_error.html))).\n",
    "\n",
    "*Note*: The design matrix and the results vector are passed only as arguments to the `fit()` method for `sklearn` models. This is different than for `statsmodels` where we passed the data already at the stage of initializing the model. Additionally, the order in which the design matrix and the results vector are passed to a `sklearn`-model is swapped compared to `statsmodels`!\n",
    "\n",
    "Also note: for linear models in `sklearn` we do not need to manually create an `intercept` column as we can specify if we want an intercept to be included using the `fit_intercept` argument when initializing the model."
   ]
  },
  {
   "cell_type": "code",
   "execution_count": null,
   "id": "68f97fb5-5637-4b2b-b2d7-7884dc37e43f",
   "metadata": {},
   "outputs": [],
   "source": [
    "from sklearn.linear_model import Lasso\n",
    "\n",
    "coefficients = ...\n",
    "mse = ...\n",
    "\n",
    "print('Model coefficients: ', coefficients)\n",
    "print('Lasso test MSE for alpha = 1: ', mse)"
   ]
  },
  {
   "cell_type": "markdown",
   "id": "cc9808cd-f889-4442-bcc9-f5c24ac65f2e",
   "metadata": {},
   "source": [
    "## Task 2.6\n",
    "\n",
    "For values of $\\lambda$ varying from 0.01 to 2 in steps of 0.01 train Lasso models and compute the model coefficients and the model test MSEs. For each new value of $\\lambda$, append the new model coefficients and test MSEs to lists called `coefficients_Lasso` and `mses`."
   ]
  },
  {
   "cell_type": "code",
   "execution_count": null,
   "id": "899ef5a0-4408-4c23-963f-0673bd5a2d61",
   "metadata": {},
   "outputs": [],
   "source": [
    "from sklearn.linear_model import Lasso\n",
    "\n",
    "coefficients_Lasso = []\n",
    "..."
   ]
  },
  {
   "cell_type": "markdown",
   "id": "10999094-b907-4daf-8ce5-cdff6b982359",
   "metadata": {},
   "source": [
    "Run the two cells below to visualize your coefficients and your MSEs for the different $\\lambda$ values."
   ]
  },
  {
   "cell_type": "code",
   "execution_count": null,
   "id": "43df21c5-fa9c-42c1-af6c-ece09c0800e5",
   "metadata": {},
   "outputs": [],
   "source": [
    "col_names = [\"x\" + str(v) for v in np.arange(1, 36, 1)]\n",
    "\n",
    "coefs_df = pd.DataFrame(coefficients_Lasso, columns=col_names)\n",
    "\n",
    "coefs_df[\"lambda\"] = alphas\n",
    "coefs_long = pd.melt(coefs_df, id_vars=[\"lambda\"], value_vars=col_names)\n",
    "\n",
    "fig = px.line(coefs_long, x=\"lambda\", y=\"value\", color=\"variable\", log_x=True)\n",
    "fig.update_layout(\n",
    "    showlegend=False, width=1000, height=500, yaxis_title=\"Coefficient\",\n",
    "    xaxis_title=\"Lambda\"\n",
    ")"
   ]
  },
  {
   "cell_type": "code",
   "execution_count": null,
   "id": "4e795a52-82a8-4fef-adc0-4c59f004b16a",
   "metadata": {},
   "outputs": [],
   "source": [
    "px.line(x=alphas, y=mses,\n",
    "        labels={\"x\": \"Lambda\", \"y\": \"MSE\"},\n",
    "        width=700, height=500)"
   ]
  },
  {
   "cell_type": "markdown",
   "id": "cd91e1cd-b658-4f6c-8c0a-920b1a402af8",
   "metadata": {},
   "source": [
    "## Task 2.7\n",
    "\n",
    "Repeat the steps from Task 2.6, this time using Ridge regression [`sklearn.linear_model.Ridge`](https://scikit-learn.org/stable/modules/generated/sklearn.linear_model.Ridge) using a parameter $\\lambda$ which varies from $1$ to $3000$ in steps of $25$."
   ]
  },
  {
   "cell_type": "code",
   "execution_count": null,
   "id": "0be45bc6-f9a3-4781-895f-ebd3f732d935",
   "metadata": {},
   "outputs": [],
   "source": [
    "from sklearn.linear_model import Ridge\n",
    "\n",
    "coefficients_Ridge = []\n",
    "..."
   ]
  },
  {
   "cell_type": "markdown",
   "id": "9980b970-8608-4e3c-8823-b924c7a0985f",
   "metadata": {},
   "source": [
    "Run the two cells below to visualize the coefficients and the test score for the different $\\lambda$ parameters."
   ]
  },
  {
   "cell_type": "code",
   "execution_count": null,
   "id": "c1520b04-bde7-449d-bdc4-daee03a923d0",
   "metadata": {},
   "outputs": [],
   "source": [
    "coefficients_Ridge = np.squeeze(coefficients_Ridge)\n",
    "\n",
    "col_names = [\"x\" + str(v) for v in np.arange(1, 36, 1)]\n",
    "\n",
    "coefsR_df = pd.DataFrame(coefficients_Ridge, columns=col_names)\n",
    "coefsR_df[\"lambda\"] = alphasR\n",
    "\n",
    "coefsR_long = pd.melt(coefsR_df, id_vars=[\"lambda\"], value_vars=col_names)\n",
    "\n",
    "fig = px.line(coefsR_long, x=\"lambda\", y=\"value\", color=\"variable\", log_x=True)\n",
    "fig.update_layout(\n",
    "    showlegend=False, width=1000, height=500, \n",
    "    yaxis_title=\"Coefficient\", xaxis_title=\"Lambda\"\n",
    ")\n",
    "fig.show()"
   ]
  },
  {
   "cell_type": "code",
   "execution_count": null,
   "id": "0febfc8d-800a-46cd-b032-67f700734c5c",
   "metadata": {},
   "outputs": [],
   "source": [
    "px.line(x=alphasR, y=mses,\n",
    "        labels={\"x\": \"Lambda\", \"y\": \"MSE\"},\n",
    "        width=700, height=500)"
   ]
  },
  {
   "cell_type": "markdown",
   "id": "5f4fcdd3-d754-4e72-8f74-8e1542be4a9a",
   "metadata": {},
   "source": [
    "## Task 2.8\n",
    "\n",
    "Now we use $10$-fold cross validation to compare the estimated test MSE of OLS multiple linear regression, Lasso regression and Ridge regression.\n",
    "To do so, follow the steps outlined below:\n",
    "- Initialize a `KFold` cross-validator (see [documentation](https://scikit-learn.org/stable/modules/generated/sklearn.model_selection.KFold.html)). Make sure to set a random state so that the same folds are used for all models. Also make sure that the data is shuffled.\n",
    "- With this cross-validator, compute the cross validation scores for the regular OLS model. Since in this part we stay completely within `sklearn` and do not use `statsmodels`, there is no need for using `sklearn_sm`. Make sure to specify the appropriate scorer using the `socring` parameter.\n",
    "- For `Lasso` and `Ridge` we need to define pass the model in the form of a pipeline to `cross_validate` to make sure that the standardization is carried out on each of the folds separately. For this, use the function `sklearn.pipeline.make_pipeline` (see [documentation](https://scikit-learn.org/stable/modules/generated/sklearn.pipeline.make_pipeline.html) or [here](https://scikit-learn.org/stable/modules/compose.html) for more details)."
   ]
  },
  {
   "cell_type": "code",
   "execution_count": null,
   "id": "d1695d53-2b31-4b06-aace-f10786f7678b",
   "metadata": {},
   "outputs": [],
   "source": [
    "cross_val = ..."
   ]
  },
  {
   "cell_type": "code",
   "execution_count": null,
   "id": "da72d17c-5273-49e7-9404-0754952e293a",
   "metadata": {},
   "outputs": [],
   "source": [
    "# determine OLS cross validation score\n",
    "...\n",
    "cv_err_OLS = -np.mean(cv_results['test_score'])"
   ]
  },
  {
   "cell_type": "code",
   "execution_count": null,
   "id": "dad22636-a37d-4807-8700-9c0344945edd",
   "metadata": {},
   "outputs": [],
   "source": [
    "# determine Lasso cross validation scores\n",
    "from sklearn.pipeline import make_pipeline\n",
    "\n",
    "...\n",
    "cv_err_L = ...\n",
    "\n",
    "..."
   ]
  },
  {
   "cell_type": "code",
   "execution_count": null,
   "id": "f28512af-7918-4fb1-aa65-200e18cd6f86",
   "metadata": {},
   "outputs": [],
   "source": [
    "# determine Ridge cross validation scores\n",
    "...\n",
    "cv_err_R = ...\n",
    "\n",
    "..."
   ]
  },
  {
   "cell_type": "code",
   "execution_count": null,
   "id": "503541a7-abcf-4f0f-bb6b-d04189f4af13",
   "metadata": {},
   "outputs": [],
   "source": [
    "print('Cross validation score OLS: ', cv_err_OLS)\n",
    "print('Best cross validation score Lasso: ', min(cv_err_L), ' (for parameter alpha = ', \n",
    "      alphas_L[np.argmin(cv_err_L)],')')\n",
    "print('Best cross validation score Ridge: ', min(cv_err_R), ' (for parameter alpha = ', \n",
    "      alphas_R[np.argmin(cv_err_R)],')')"
   ]
  }
 ],
 "metadata": {
  "kernelspec": {
   "display_name": "Python 3 (ipykernel)",
   "language": "python",
   "name": "python3"
  },
  "language_info": {
   "codemirror_mode": {
    "name": "ipython",
    "version": 3
   },
   "file_extension": ".py",
   "mimetype": "text/x-python",
   "name": "python",
   "nbconvert_exporter": "python",
   "pygments_lexer": "ipython3",
   "version": "3.9.7"
  }
 },
 "nbformat": 4,
 "nbformat_minor": 5
}
